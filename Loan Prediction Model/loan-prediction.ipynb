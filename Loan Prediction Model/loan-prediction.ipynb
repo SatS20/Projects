{
 "cells": [
  {
   "cell_type": "code",
   "execution_count": 1,
   "metadata": {
    "_cell_guid": "b1076dfc-b9ad-4769-8c92-a6c4dae69d19",
    "_uuid": "8f2839f25d086af736a60e9eeb907d3b93b6e0e5",
    "execution": {
     "iopub.execute_input": "2024-06-29T08:57:39.588239Z",
     "iopub.status.busy": "2024-06-29T08:57:39.587304Z",
     "iopub.status.idle": "2024-06-29T08:57:39.970017Z",
     "shell.execute_reply": "2024-06-29T08:57:39.968987Z",
     "shell.execute_reply.started": "2024-06-29T08:57:39.588199Z"
    }
   },
   "outputs": [],
   "source": [
    "# This Python 3 environment comes with many helpful analytics libraries installed\n",
    "# It is defined by the kaggle/python Docker image: https://github.com/kaggle/docker-python\n",
    "# For example, here's several helpful packages to load\n",
    "\n",
    "import numpy as np # linear algebra\n",
    "import pandas as pd # data processing, CSV file I/O (e.g. pd.read_csv)\n",
    "\n",
    "# Input data files are available in the read-only \"../input/\" directory\n",
    "# For example, running this (by clicking run or pressing Shift+Enter) will list all files under the input directory\n",
    "\n",
    "import os\n",
    "for dirname, _, filenames in os.walk('/kaggle/input'):\n",
    "    for filename in filenames:\n",
    "        print(os.path.join(dirname, filename))\n",
    "\n",
    "# You can write up to 20GB to the current directory (/kaggle/working/) that gets preserved as output when you create a version using \"Save & Run All\" \n",
    "# You can also write temporary files to /kaggle/temp/, but they won't be saved outside of the current session"
   ]
  },
  {
   "cell_type": "markdown",
   "metadata": {},
   "source": [
    "# Project : LOAN PREDICTION"
   ]
  },
  {
   "cell_type": "markdown",
   "metadata": {},
   "source": [
    "# 1.Data Analysis"
   ]
  },
  {
   "cell_type": "code",
   "execution_count": 2,
   "metadata": {
    "execution": {
     "iopub.execute_input": "2024-06-29T08:57:40.503623Z",
     "iopub.status.busy": "2024-06-29T08:57:40.502783Z",
     "iopub.status.idle": "2024-06-29T08:57:40.542447Z",
     "shell.execute_reply": "2024-06-29T08:57:40.541484Z",
     "shell.execute_reply.started": "2024-06-29T08:57:40.503587Z"
    }
   },
   "outputs": [
    {
     "data": {
      "text/html": [
       "<div>\n",
       "<style scoped>\n",
       "    .dataframe tbody tr th:only-of-type {\n",
       "        vertical-align: middle;\n",
       "    }\n",
       "\n",
       "    .dataframe tbody tr th {\n",
       "        vertical-align: top;\n",
       "    }\n",
       "\n",
       "    .dataframe thead th {\n",
       "        text-align: right;\n",
       "    }\n",
       "</style>\n",
       "<table border=\"1\" class=\"dataframe\">\n",
       "  <thead>\n",
       "    <tr style=\"text-align: right;\">\n",
       "      <th></th>\n",
       "      <th>Loan_ID</th>\n",
       "      <th>Gender</th>\n",
       "      <th>Married</th>\n",
       "      <th>Dependents</th>\n",
       "      <th>Education</th>\n",
       "      <th>Self_Employed</th>\n",
       "      <th>ApplicantIncome</th>\n",
       "      <th>CoapplicantIncome</th>\n",
       "      <th>LoanAmount</th>\n",
       "      <th>Loan_Amount_Term</th>\n",
       "      <th>Credit_History</th>\n",
       "      <th>Property_Area</th>\n",
       "      <th>Loan_Status</th>\n",
       "    </tr>\n",
       "  </thead>\n",
       "  <tbody>\n",
       "    <tr>\n",
       "      <th>0</th>\n",
       "      <td>LP001003</td>\n",
       "      <td>Male</td>\n",
       "      <td>Yes</td>\n",
       "      <td>1</td>\n",
       "      <td>Graduate</td>\n",
       "      <td>No</td>\n",
       "      <td>4583</td>\n",
       "      <td>1508.0</td>\n",
       "      <td>128.0</td>\n",
       "      <td>360.0</td>\n",
       "      <td>1.0</td>\n",
       "      <td>Rural</td>\n",
       "      <td>N</td>\n",
       "    </tr>\n",
       "    <tr>\n",
       "      <th>1</th>\n",
       "      <td>LP001005</td>\n",
       "      <td>Male</td>\n",
       "      <td>Yes</td>\n",
       "      <td>0</td>\n",
       "      <td>Graduate</td>\n",
       "      <td>Yes</td>\n",
       "      <td>3000</td>\n",
       "      <td>0.0</td>\n",
       "      <td>66.0</td>\n",
       "      <td>360.0</td>\n",
       "      <td>1.0</td>\n",
       "      <td>Urban</td>\n",
       "      <td>Y</td>\n",
       "    </tr>\n",
       "    <tr>\n",
       "      <th>2</th>\n",
       "      <td>LP001006</td>\n",
       "      <td>Male</td>\n",
       "      <td>Yes</td>\n",
       "      <td>0</td>\n",
       "      <td>Not Graduate</td>\n",
       "      <td>No</td>\n",
       "      <td>2583</td>\n",
       "      <td>2358.0</td>\n",
       "      <td>120.0</td>\n",
       "      <td>360.0</td>\n",
       "      <td>1.0</td>\n",
       "      <td>Urban</td>\n",
       "      <td>Y</td>\n",
       "    </tr>\n",
       "    <tr>\n",
       "      <th>3</th>\n",
       "      <td>LP001008</td>\n",
       "      <td>Male</td>\n",
       "      <td>No</td>\n",
       "      <td>0</td>\n",
       "      <td>Graduate</td>\n",
       "      <td>No</td>\n",
       "      <td>6000</td>\n",
       "      <td>0.0</td>\n",
       "      <td>141.0</td>\n",
       "      <td>360.0</td>\n",
       "      <td>1.0</td>\n",
       "      <td>Urban</td>\n",
       "      <td>Y</td>\n",
       "    </tr>\n",
       "    <tr>\n",
       "      <th>4</th>\n",
       "      <td>LP001013</td>\n",
       "      <td>Male</td>\n",
       "      <td>Yes</td>\n",
       "      <td>0</td>\n",
       "      <td>Not Graduate</td>\n",
       "      <td>No</td>\n",
       "      <td>2333</td>\n",
       "      <td>1516.0</td>\n",
       "      <td>95.0</td>\n",
       "      <td>360.0</td>\n",
       "      <td>1.0</td>\n",
       "      <td>Urban</td>\n",
       "      <td>Y</td>\n",
       "    </tr>\n",
       "  </tbody>\n",
       "</table>\n",
       "</div>"
      ],
      "text/plain": [
       "    Loan_ID Gender Married Dependents     Education Self_Employed  \\\n",
       "0  LP001003   Male     Yes          1      Graduate            No   \n",
       "1  LP001005   Male     Yes          0      Graduate           Yes   \n",
       "2  LP001006   Male     Yes          0  Not Graduate            No   \n",
       "3  LP001008   Male      No          0      Graduate            No   \n",
       "4  LP001013   Male     Yes          0  Not Graduate            No   \n",
       "\n",
       "   ApplicantIncome  CoapplicantIncome  LoanAmount  Loan_Amount_Term  \\\n",
       "0             4583             1508.0       128.0             360.0   \n",
       "1             3000                0.0        66.0             360.0   \n",
       "2             2583             2358.0       120.0             360.0   \n",
       "3             6000                0.0       141.0             360.0   \n",
       "4             2333             1516.0        95.0             360.0   \n",
       "\n",
       "   Credit_History Property_Area Loan_Status  \n",
       "0             1.0         Rural           N  \n",
       "1             1.0         Urban           Y  \n",
       "2             1.0         Urban           Y  \n",
       "3             1.0         Urban           Y  \n",
       "4             1.0         Urban           Y  "
      ]
     },
     "execution_count": 2,
     "metadata": {},
     "output_type": "execute_result"
    }
   ],
   "source": [
    "import pandas as pd\n",
    "#df=pd.read_csv(r\"/kaggle/input/loan-status-prediction/loan_data.csv\")\n",
    "df=pd.read_csv(\"./loan_data.csv\")\n",
    "df.head()"
   ]
  },
  {
   "cell_type": "code",
   "execution_count": 3,
   "metadata": {
    "execution": {
     "iopub.execute_input": "2024-06-29T08:57:40.723719Z",
     "iopub.status.busy": "2024-06-29T08:57:40.723030Z",
     "iopub.status.idle": "2024-06-29T08:57:40.745775Z",
     "shell.execute_reply": "2024-06-29T08:57:40.744747Z",
     "shell.execute_reply.started": "2024-06-29T08:57:40.723686Z"
    }
   },
   "outputs": [
    {
     "name": "stdout",
     "output_type": "stream",
     "text": [
      "<class 'pandas.core.frame.DataFrame'>\n",
      "RangeIndex: 381 entries, 0 to 380\n",
      "Data columns (total 13 columns):\n",
      " #   Column             Non-Null Count  Dtype  \n",
      "---  ------             --------------  -----  \n",
      " 0   Loan_ID            381 non-null    object \n",
      " 1   Gender             376 non-null    object \n",
      " 2   Married            381 non-null    object \n",
      " 3   Dependents         373 non-null    object \n",
      " 4   Education          381 non-null    object \n",
      " 5   Self_Employed      360 non-null    object \n",
      " 6   ApplicantIncome    381 non-null    int64  \n",
      " 7   CoapplicantIncome  381 non-null    float64\n",
      " 8   LoanAmount         381 non-null    float64\n",
      " 9   Loan_Amount_Term   370 non-null    float64\n",
      " 10  Credit_History     351 non-null    float64\n",
      " 11  Property_Area      381 non-null    object \n",
      " 12  Loan_Status        381 non-null    object \n",
      "dtypes: float64(4), int64(1), object(8)\n",
      "memory usage: 38.8+ KB\n"
     ]
    }
   ],
   "source": [
    "df.info()"
   ]
  },
  {
   "cell_type": "code",
   "execution_count": 4,
   "metadata": {
    "execution": {
     "iopub.execute_input": "2024-06-29T08:57:41.104976Z",
     "iopub.status.busy": "2024-06-29T08:57:41.104612Z",
     "iopub.status.idle": "2024-06-29T08:57:41.113243Z",
     "shell.execute_reply": "2024-06-29T08:57:41.112194Z",
     "shell.execute_reply.started": "2024-06-29T08:57:41.104947Z"
    }
   },
   "outputs": [
    {
     "data": {
      "text/plain": [
       "Loan_ID               0\n",
       "Gender                5\n",
       "Married               0\n",
       "Dependents            8\n",
       "Education             0\n",
       "Self_Employed        21\n",
       "ApplicantIncome       0\n",
       "CoapplicantIncome     0\n",
       "LoanAmount            0\n",
       "Loan_Amount_Term     11\n",
       "Credit_History       30\n",
       "Property_Area         0\n",
       "Loan_Status           0\n",
       "dtype: int64"
      ]
     },
     "execution_count": 4,
     "metadata": {},
     "output_type": "execute_result"
    }
   ],
   "source": [
    "df.isna().sum()  # get the count of null column wise"
   ]
  },
  {
   "cell_type": "code",
   "execution_count": 5,
   "metadata": {
    "execution": {
     "iopub.execute_input": "2024-06-29T08:57:42.689778Z",
     "iopub.status.busy": "2024-06-29T08:57:42.689399Z",
     "iopub.status.idle": "2024-06-29T08:57:42.699662Z",
     "shell.execute_reply": "2024-06-29T08:57:42.698587Z",
     "shell.execute_reply.started": "2024-06-29T08:57:42.689748Z"
    }
   },
   "outputs": [],
   "source": [
    "df.dropna(inplace=True)  #remove null values"
   ]
  },
  {
   "cell_type": "code",
   "execution_count": 6,
   "metadata": {
    "execution": {
     "iopub.execute_input": "2024-06-29T08:57:43.293535Z",
     "iopub.status.busy": "2024-06-29T08:57:43.292634Z",
     "iopub.status.idle": "2024-06-29T08:57:43.303134Z",
     "shell.execute_reply": "2024-06-29T08:57:43.302128Z",
     "shell.execute_reply.started": "2024-06-29T08:57:43.293499Z"
    }
   },
   "outputs": [
    {
     "data": {
      "text/plain": [
       "0"
      ]
     },
     "execution_count": 6,
     "metadata": {},
     "output_type": "execute_result"
    }
   ],
   "source": [
    "df.duplicated().sum() #check if any dublicate"
   ]
  },
  {
   "cell_type": "code",
   "execution_count": 7,
   "metadata": {
    "execution": {
     "iopub.execute_input": "2024-06-29T08:57:44.019724Z",
     "iopub.status.busy": "2024-06-29T08:57:44.019351Z",
     "iopub.status.idle": "2024-06-29T08:57:44.026683Z",
     "shell.execute_reply": "2024-06-29T08:57:44.025642Z",
     "shell.execute_reply.started": "2024-06-29T08:57:44.019694Z"
    }
   },
   "outputs": [
    {
     "data": {
      "text/plain": [
       "Index(['Loan_ID', 'Gender', 'Married', 'Dependents', 'Education',\n",
       "       'Self_Employed', 'ApplicantIncome', 'CoapplicantIncome', 'LoanAmount',\n",
       "       'Loan_Amount_Term', 'Credit_History', 'Property_Area', 'Loan_Status'],\n",
       "      dtype='object')"
      ]
     },
     "execution_count": 7,
     "metadata": {},
     "output_type": "execute_result"
    }
   ],
   "source": [
    "df.columns"
   ]
  },
  {
   "cell_type": "code",
   "execution_count": 8,
   "metadata": {
    "execution": {
     "iopub.execute_input": "2024-06-29T08:57:44.424616Z",
     "iopub.status.busy": "2024-06-29T08:57:44.423862Z",
     "iopub.status.idle": "2024-06-29T08:57:44.591997Z",
     "shell.execute_reply": "2024-06-29T08:57:44.591105Z",
     "shell.execute_reply.started": "2024-06-29T08:57:44.424582Z"
    }
   },
   "outputs": [],
   "source": [
    "#plot a histogram of \"AppplicantIncome\" to get general over about the income\n",
    "import seaborn as sns\n",
    "import matplotlib.pyplot as plt\n",
    "import numpy as np"
   ]
  },
  {
   "cell_type": "code",
   "execution_count": 9,
   "metadata": {
    "execution": {
     "iopub.execute_input": "2024-06-29T08:57:44.987198Z",
     "iopub.status.busy": "2024-06-29T08:57:44.986486Z",
     "iopub.status.idle": "2024-06-29T08:57:45.343137Z",
     "shell.execute_reply": "2024-06-29T08:57:45.342162Z",
     "shell.execute_reply.started": "2024-06-29T08:57:44.987156Z"
    }
   },
   "outputs": [
    {
     "data": {
      "image/png": "[encoded data removed]",
      "text/plain": [
       "<Figure size 640x480 with 1 Axes>"
      ]
     },
     "metadata": {},
     "output_type": "display_data"
    }
   ],
   "source": [
    "sns.histplot(df['ApplicantIncome'], kde=True)\n",
    "plt.title(\"Hostogram of the Applicant Income\")\n",
    "plt.xlabel(\"Applicant Income\")\n",
    "plt.ylabel(\"Frequency\")\n",
    "plt.show()"
   ]
  },
  {
   "cell_type": "code",
   "execution_count": 10,
   "metadata": {
    "execution": {
     "iopub.execute_input": "2024-06-29T08:57:45.404970Z",
     "iopub.status.busy": "2024-06-29T08:57:45.404139Z",
     "iopub.status.idle": "2024-06-29T08:57:45.590028Z",
     "shell.execute_reply": "2024-06-29T08:57:45.589173Z",
     "shell.execute_reply.started": "2024-06-29T08:57:45.404928Z"
    }
   },
   "outputs": [
    {
     "data": {
      "image/png": "[encoded data removed]",
      "text/plain": [
       "<Figure size 640x480 with 1 Axes>"
      ]
     },
     "metadata": {},
     "output_type": "display_data"
    }
   ],
   "source": [
    "#create a count pllot of the loan status\n",
    "sns.countplot(x='Loan_Status', data=df)\n",
    "plt.title(\"Loan Status\")\n",
    "plt.xlabel(\"Loan Approved\")\n",
    "plt.ylabel(\"Count\")\n",
    "plt.show()"
   ]
  },
  {
   "cell_type": "code",
   "execution_count": 11,
   "metadata": {
    "execution": {
     "iopub.execute_input": "2024-06-29T08:57:45.832917Z",
     "iopub.status.busy": "2024-06-29T08:57:45.832276Z",
     "iopub.status.idle": "2024-06-29T08:57:45.845381Z",
     "shell.execute_reply": "2024-06-29T08:57:45.844283Z",
     "shell.execute_reply.started": "2024-06-29T08:57:45.832884Z"
    }
   },
   "outputs": [
    {
     "data": {
      "text/html": [
       "<div>\n",
       "<style scoped>\n",
       "    .dataframe tbody tr th:only-of-type {\n",
       "        vertical-align: middle;\n",
       "    }\n",
       "\n",
       "    .dataframe tbody tr th {\n",
       "        vertical-align: top;\n",
       "    }\n",
       "\n",
       "    .dataframe thead th {\n",
       "        text-align: right;\n",
       "    }\n",
       "</style>\n",
       "<table border=\"1\" class=\"dataframe\">\n",
       "  <thead>\n",
       "    <tr style=\"text-align: right;\">\n",
       "      <th></th>\n",
       "      <th>Education</th>\n",
       "      <th>LoanAmount</th>\n",
       "    </tr>\n",
       "  </thead>\n",
       "  <tbody>\n",
       "    <tr>\n",
       "      <th>0</th>\n",
       "      <td>Graduate</td>\n",
       "      <td>105.344978</td>\n",
       "    </tr>\n",
       "    <tr>\n",
       "      <th>1</th>\n",
       "      <td>Not Graduate</td>\n",
       "      <td>102.531646</td>\n",
       "    </tr>\n",
       "  </tbody>\n",
       "</table>\n",
       "</div>"
      ],
      "text/plain": [
       "      Education  LoanAmount\n",
       "0      Graduate  105.344978\n",
       "1  Not Graduate  102.531646"
      ]
     },
     "execution_count": 11,
     "metadata": {},
     "output_type": "execute_result"
    }
   ],
   "source": [
    "#Average loan amount by educatin (use Group by)\n",
    "avg_loan_amount_by_education=df.groupby(\"Education\")[\"LoanAmount\"].mean().reset_index()\n",
    "avg_loan_amount_by_education"
   ]
  },
  {
   "cell_type": "code",
   "execution_count": 12,
   "metadata": {
    "execution": {
     "iopub.execute_input": "2024-06-29T08:57:46.309045Z",
     "iopub.status.busy": "2024-06-29T08:57:46.308170Z",
     "iopub.status.idle": "2024-06-29T08:57:46.511201Z",
     "shell.execute_reply": "2024-06-29T08:57:46.510223Z",
     "shell.execute_reply.started": "2024-06-29T08:57:46.309014Z"
    }
   },
   "outputs": [
    {
     "data": {
      "image/png": "[encoded data removed]",
      "text/plain": [
       "<Figure size 640x480 with 1 Axes>"
      ]
     },
     "metadata": {},
     "output_type": "display_data"
    }
   ],
   "source": [
    "#create a barplot\n",
    "sns.barplot(x='Education',y='LoanAmount',data=avg_loan_amount_by_education)\n",
    "plt.title(\"Average loan amount by Education\")\n",
    "plt.xlabel(\"Education\")\n",
    "plt.ylabel(\"Average Loan Amount\")\n",
    "plt.show()"
   ]
  },
  {
   "cell_type": "code",
   "execution_count": 13,
   "metadata": {
    "execution": {
     "iopub.execute_input": "2024-06-29T08:57:46.962582Z",
     "iopub.status.busy": "2024-06-29T08:57:46.962197Z",
     "iopub.status.idle": "2024-06-29T08:57:47.199603Z",
     "shell.execute_reply": "2024-06-29T08:57:47.198607Z",
     "shell.execute_reply.started": "2024-06-29T08:57:46.962551Z"
    }
   },
   "outputs": [
    {
     "data": {
      "image/png": "[encoded data removed]",
      "text/plain": [
       "<Figure size 640x480 with 1 Axes>"
      ]
     },
     "metadata": {},
     "output_type": "display_data"
    }
   ],
   "source": [
    "#Create a boxplot of loan amoount by property area\n",
    "sns.boxplot(x='Property_Area',y='LoanAmount',data=df)\n",
    "plt.title(\"Loan amount Distribution\")\n",
    "plt.xlabel(\"Property Area\")\n",
    "plt.ylabel(\"Loan Amount\")\n",
    "plt.show()"
   ]
  },
  {
   "cell_type": "code",
   "execution_count": 14,
   "metadata": {
    "execution": {
     "iopub.execute_input": "2024-06-29T08:57:47.264521Z",
     "iopub.status.busy": "2024-06-29T08:57:47.263296Z",
     "iopub.status.idle": "2024-06-29T08:57:47.502803Z",
     "shell.execute_reply": "2024-06-29T08:57:47.501815Z",
     "shell.execute_reply.started": "2024-06-29T08:57:47.264475Z"
    }
   },
   "outputs": [
    {
     "data": {
      "image/png": "[encoded data removed]",
      "text/plain": [
       "<Figure size 640x480 with 1 Axes>"
      ]
     },
     "metadata": {},
     "output_type": "display_data"
    }
   ],
   "source": [
    "#Create a countplot of loan status by gender\n",
    "sns.countplot(x='Loan_Status',hue='Gender',data=df)\n",
    "plt.title(\"Loan Status by Gender\")\n",
    "plt.xlabel(\"Loan Approved\")\n",
    "plt.ylabel(\"Count\")\n",
    "plt.show()"
   ]
  },
  {
   "cell_type": "code",
   "execution_count": 15,
   "metadata": {
    "execution": {
     "iopub.execute_input": "2024-06-29T08:57:47.786134Z",
     "iopub.status.busy": "2024-06-29T08:57:47.785742Z",
     "iopub.status.idle": "2024-06-29T08:57:47.917978Z",
     "shell.execute_reply": "2024-06-29T08:57:47.916806Z",
     "shell.execute_reply.started": "2024-06-29T08:57:47.786102Z"
    }
   },
   "outputs": [
    {
     "data": {
      "text/plain": [
       "Text(0, 0.5, '')"
      ]
     },
     "execution_count": 15,
     "metadata": {},
     "output_type": "execute_result"
    },
    {
     "data": {
      "image/png": "[encoded data removed]",
      "text/plain": [
       "<Figure size 640x480 with 1 Axes>"
      ]
     },
     "metadata": {},
     "output_type": "display_data"
    }
   ],
   "source": [
    "df['Gender'].value_counts().plot(kind='pie')\n",
    "plt.ylabel(\"\")"
   ]
  },
  {
   "cell_type": "code",
   "execution_count": 16,
   "metadata": {
    "execution": {
     "iopub.execute_input": "2024-06-29T08:57:48.132108Z",
     "iopub.status.busy": "2024-06-29T08:57:48.131202Z",
     "iopub.status.idle": "2024-06-29T08:57:48.391441Z",
     "shell.execute_reply": "2024-06-29T08:57:48.390459Z",
     "shell.execute_reply.started": "2024-06-29T08:57:48.132070Z"
    }
   },
   "outputs": [
    {
     "data": {
      "image/png": "[encoded data removed]",
      "text/plain": [
       "<Figure size 640x480 with 1 Axes>"
      ]
     },
     "metadata": {},
     "output_type": "display_data"
    }
   ],
   "source": [
    "#Create a count of loan status by married status\n",
    "loan_status_by_married=df.groupby(\"Married\")['Loan_Status'].value_counts().unstack()\n",
    "loan_status_by_married.plot(kind='bar',stacked=True)\n",
    "plt.title(\"Loan Status by Married Status\")\n",
    "plt.xlabel(\"Married\")\n",
    "plt.ylabel(\"Count\")\n",
    "plt.legend(title=\"Loan Status\")\n",
    "plt.xticks(rotation=0)\n",
    "plt.grid()\n",
    "plt.show()"
   ]
  },
  {
   "cell_type": "code",
   "execution_count": 17,
   "metadata": {
    "execution": {
     "iopub.execute_input": "2024-06-29T08:57:48.458961Z",
     "iopub.status.busy": "2024-06-29T08:57:48.458176Z",
     "iopub.status.idle": "2024-06-29T08:57:48.718553Z",
     "shell.execute_reply": "2024-06-29T08:57:48.717592Z",
     "shell.execute_reply.started": "2024-06-29T08:57:48.458930Z"
    }
   },
   "outputs": [
    {
     "data": {
      "image/png": "[encoded data removed]",
      "text/plain": [
       "<Figure size 640x480 with 1 Axes>"
      ]
     },
     "metadata": {},
     "output_type": "display_data"
    }
   ],
   "source": [
    "#Create a Scatter plot of Applicant income vs Loan Amount\n",
    "sns.scatterplot(x='ApplicantIncome',y='LoanAmount', data=df)\n",
    "plt.title(\"Applicant Income vs Loan Amount\")\n",
    "plt.xlabel(\"Applicant Income\")\n",
    "plt.ylabel(\"Loan Amount\")\n",
    "plt.show()"
   ]
  },
  {
   "cell_type": "code",
   "execution_count": 18,
   "metadata": {
    "execution": {
     "iopub.execute_input": "2024-06-29T08:57:48.776880Z",
     "iopub.status.busy": "2024-06-29T08:57:48.776291Z",
     "iopub.status.idle": "2024-06-29T08:57:48.792561Z",
     "shell.execute_reply": "2024-06-29T08:57:48.791524Z",
     "shell.execute_reply.started": "2024-06-29T08:57:48.776851Z"
    }
   },
   "outputs": [
    {
     "data": {
      "text/html": [
       "<div>\n",
       "<style scoped>\n",
       "    .dataframe tbody tr th:only-of-type {\n",
       "        vertical-align: middle;\n",
       "    }\n",
       "\n",
       "    .dataframe tbody tr th {\n",
       "        vertical-align: top;\n",
       "    }\n",
       "\n",
       "    .dataframe thead th {\n",
       "        text-align: right;\n",
       "    }\n",
       "</style>\n",
       "<table border=\"1\" class=\"dataframe\">\n",
       "  <thead>\n",
       "    <tr style=\"text-align: right;\">\n",
       "      <th></th>\n",
       "      <th>ApplicantIncome</th>\n",
       "      <th>CoapplicantIncome</th>\n",
       "      <th>LoanAmount</th>\n",
       "      <th>Loan_Amount_Term</th>\n",
       "      <th>Credit_History</th>\n",
       "    </tr>\n",
       "  </thead>\n",
       "  <tbody>\n",
       "    <tr>\n",
       "      <th>0</th>\n",
       "      <td>4583</td>\n",
       "      <td>1508.0</td>\n",
       "      <td>128.0</td>\n",
       "      <td>360.0</td>\n",
       "      <td>1.0</td>\n",
       "    </tr>\n",
       "    <tr>\n",
       "      <th>1</th>\n",
       "      <td>3000</td>\n",
       "      <td>0.0</td>\n",
       "      <td>66.0</td>\n",
       "      <td>360.0</td>\n",
       "      <td>1.0</td>\n",
       "    </tr>\n",
       "    <tr>\n",
       "      <th>2</th>\n",
       "      <td>2583</td>\n",
       "      <td>2358.0</td>\n",
       "      <td>120.0</td>\n",
       "      <td>360.0</td>\n",
       "      <td>1.0</td>\n",
       "    </tr>\n",
       "    <tr>\n",
       "      <th>3</th>\n",
       "      <td>6000</td>\n",
       "      <td>0.0</td>\n",
       "      <td>141.0</td>\n",
       "      <td>360.0</td>\n",
       "      <td>1.0</td>\n",
       "    </tr>\n",
       "    <tr>\n",
       "      <th>4</th>\n",
       "      <td>2333</td>\n",
       "      <td>1516.0</td>\n",
       "      <td>95.0</td>\n",
       "      <td>360.0</td>\n",
       "      <td>1.0</td>\n",
       "    </tr>\n",
       "    <tr>\n",
       "      <th>...</th>\n",
       "      <td>...</td>\n",
       "      <td>...</td>\n",
       "      <td>...</td>\n",
       "      <td>...</td>\n",
       "      <td>...</td>\n",
       "    </tr>\n",
       "    <tr>\n",
       "      <th>376</th>\n",
       "      <td>5703</td>\n",
       "      <td>0.0</td>\n",
       "      <td>128.0</td>\n",
       "      <td>360.0</td>\n",
       "      <td>1.0</td>\n",
       "    </tr>\n",
       "    <tr>\n",
       "      <th>377</th>\n",
       "      <td>3232</td>\n",
       "      <td>1950.0</td>\n",
       "      <td>108.0</td>\n",
       "      <td>360.0</td>\n",
       "      <td>1.0</td>\n",
       "    </tr>\n",
       "    <tr>\n",
       "      <th>378</th>\n",
       "      <td>2900</td>\n",
       "      <td>0.0</td>\n",
       "      <td>71.0</td>\n",
       "      <td>360.0</td>\n",
       "      <td>1.0</td>\n",
       "    </tr>\n",
       "    <tr>\n",
       "      <th>379</th>\n",
       "      <td>4106</td>\n",
       "      <td>0.0</td>\n",
       "      <td>40.0</td>\n",
       "      <td>180.0</td>\n",
       "      <td>1.0</td>\n",
       "    </tr>\n",
       "    <tr>\n",
       "      <th>380</th>\n",
       "      <td>4583</td>\n",
       "      <td>0.0</td>\n",
       "      <td>133.0</td>\n",
       "      <td>360.0</td>\n",
       "      <td>0.0</td>\n",
       "    </tr>\n",
       "  </tbody>\n",
       "</table>\n",
       "<p>308 rows × 5 columns</p>\n",
       "</div>"
      ],
      "text/plain": [
       "     ApplicantIncome  CoapplicantIncome  LoanAmount  Loan_Amount_Term  \\\n",
       "0               4583             1508.0       128.0             360.0   \n",
       "1               3000                0.0        66.0             360.0   \n",
       "2               2583             2358.0       120.0             360.0   \n",
       "3               6000                0.0       141.0             360.0   \n",
       "4               2333             1516.0        95.0             360.0   \n",
       "..               ...                ...         ...               ...   \n",
       "376             5703                0.0       128.0             360.0   \n",
       "377             3232             1950.0       108.0             360.0   \n",
       "378             2900                0.0        71.0             360.0   \n",
       "379             4106                0.0        40.0             180.0   \n",
       "380             4583                0.0       133.0             360.0   \n",
       "\n",
       "     Credit_History  \n",
       "0               1.0  \n",
       "1               1.0  \n",
       "2               1.0  \n",
       "3               1.0  \n",
       "4               1.0  \n",
       "..              ...  \n",
       "376             1.0  \n",
       "377             1.0  \n",
       "378             1.0  \n",
       "379             1.0  \n",
       "380             0.0  \n",
       "\n",
       "[308 rows x 5 columns]"
      ]
     },
     "execution_count": 18,
     "metadata": {},
     "output_type": "execute_result"
    }
   ],
   "source": [
    "#Create a Heatmap to visalize the coralation between the numeric columns\n",
    "numeric_df=df.select_dtypes(include=['int64','float64'])\n",
    "numeric_df"
   ]
  },
  {
   "cell_type": "code",
   "execution_count": 19,
   "metadata": {
    "execution": {
     "iopub.execute_input": "2024-06-29T08:57:49.100086Z",
     "iopub.status.busy": "2024-06-29T08:57:49.099705Z",
     "iopub.status.idle": "2024-06-29T08:57:49.112555Z",
     "shell.execute_reply": "2024-06-29T08:57:49.111574Z",
     "shell.execute_reply.started": "2024-06-29T08:57:49.100052Z"
    }
   },
   "outputs": [
    {
     "data": {
      "text/html": [
       "<div>\n",
       "<style scoped>\n",
       "    .dataframe tbody tr th:only-of-type {\n",
       "        vertical-align: middle;\n",
       "    }\n",
       "\n",
       "    .dataframe tbody tr th {\n",
       "        vertical-align: top;\n",
       "    }\n",
       "\n",
       "    .dataframe thead th {\n",
       "        text-align: right;\n",
       "    }\n",
       "</style>\n",
       "<table border=\"1\" class=\"dataframe\">\n",
       "  <thead>\n",
       "    <tr style=\"text-align: right;\">\n",
       "      <th></th>\n",
       "      <th>ApplicantIncome</th>\n",
       "      <th>CoapplicantIncome</th>\n",
       "      <th>LoanAmount</th>\n",
       "      <th>Loan_Amount_Term</th>\n",
       "      <th>Credit_History</th>\n",
       "    </tr>\n",
       "  </thead>\n",
       "  <tbody>\n",
       "    <tr>\n",
       "      <th>ApplicantIncome</th>\n",
       "      <td>1.000000</td>\n",
       "      <td>-0.243677</td>\n",
       "      <td>0.267628</td>\n",
       "      <td>-0.099571</td>\n",
       "      <td>0.030307</td>\n",
       "    </tr>\n",
       "    <tr>\n",
       "      <th>CoapplicantIncome</th>\n",
       "      <td>-0.243677</td>\n",
       "      <td>1.000000</td>\n",
       "      <td>0.123028</td>\n",
       "      <td>-0.004158</td>\n",
       "      <td>0.012715</td>\n",
       "    </tr>\n",
       "    <tr>\n",
       "      <th>LoanAmount</th>\n",
       "      <td>0.267628</td>\n",
       "      <td>0.123028</td>\n",
       "      <td>1.000000</td>\n",
       "      <td>0.135069</td>\n",
       "      <td>-0.043853</td>\n",
       "    </tr>\n",
       "    <tr>\n",
       "      <th>Loan_Amount_Term</th>\n",
       "      <td>-0.099571</td>\n",
       "      <td>-0.004158</td>\n",
       "      <td>0.135069</td>\n",
       "      <td>1.000000</td>\n",
       "      <td>0.015269</td>\n",
       "    </tr>\n",
       "    <tr>\n",
       "      <th>Credit_History</th>\n",
       "      <td>0.030307</td>\n",
       "      <td>0.012715</td>\n",
       "      <td>-0.043853</td>\n",
       "      <td>0.015269</td>\n",
       "      <td>1.000000</td>\n",
       "    </tr>\n",
       "  </tbody>\n",
       "</table>\n",
       "</div>"
      ],
      "text/plain": [
       "                   ApplicantIncome  CoapplicantIncome  LoanAmount  \\\n",
       "ApplicantIncome           1.000000          -0.243677    0.267628   \n",
       "CoapplicantIncome        -0.243677           1.000000    0.123028   \n",
       "LoanAmount                0.267628           0.123028    1.000000   \n",
       "Loan_Amount_Term         -0.099571          -0.004158    0.135069   \n",
       "Credit_History            0.030307           0.012715   -0.043853   \n",
       "\n",
       "                   Loan_Amount_Term  Credit_History  \n",
       "ApplicantIncome           -0.099571        0.030307  \n",
       "CoapplicantIncome         -0.004158        0.012715  \n",
       "LoanAmount                 0.135069       -0.043853  \n",
       "Loan_Amount_Term           1.000000        0.015269  \n",
       "Credit_History             0.015269        1.000000  "
      ]
     },
     "execution_count": 19,
     "metadata": {},
     "output_type": "execute_result"
    }
   ],
   "source": [
    "correlation_matrix=numeric_df.corr()\n",
    "correlation_matrix"
   ]
  },
  {
   "cell_type": "code",
   "execution_count": 20,
   "metadata": {
    "execution": {
     "iopub.execute_input": "2024-06-29T08:57:49.296927Z",
     "iopub.status.busy": "2024-06-29T08:57:49.296217Z",
     "iopub.status.idle": "2024-06-29T08:57:49.654163Z",
     "shell.execute_reply": "2024-06-29T08:57:49.653255Z",
     "shell.execute_reply.started": "2024-06-29T08:57:49.296894Z"
    }
   },
   "outputs": [
    {
     "data": {
      "image/png": "[encoded data removed]",
      "text/plain": [
       "<Figure size 640x480 with 2 Axes>"
      ]
     },
     "metadata": {},
     "output_type": "display_data"
    }
   ],
   "source": [
    "sns.heatmap(correlation_matrix, annot=True, cmap='coolwarm')\n",
    "plt.title(\"Correlation Heatmap\")\n",
    "plt.show()"
   ]
  },
  {
   "cell_type": "code",
   "execution_count": 21,
   "metadata": {
    "execution": {
     "iopub.execute_input": "2024-06-29T08:57:49.851032Z",
     "iopub.status.busy": "2024-06-29T08:57:49.850647Z",
     "iopub.status.idle": "2024-06-29T08:57:49.862806Z",
     "shell.execute_reply": "2024-06-29T08:57:49.861642Z",
     "shell.execute_reply.started": "2024-06-29T08:57:49.851001Z"
    }
   },
   "outputs": [
    {
     "data": {
      "text/html": [
       "<div>\n",
       "<style scoped>\n",
       "    .dataframe tbody tr th:only-of-type {\n",
       "        vertical-align: middle;\n",
       "    }\n",
       "\n",
       "    .dataframe tbody tr th {\n",
       "        vertical-align: top;\n",
       "    }\n",
       "\n",
       "    .dataframe thead th {\n",
       "        text-align: right;\n",
       "    }\n",
       "</style>\n",
       "<table border=\"1\" class=\"dataframe\">\n",
       "  <thead>\n",
       "    <tr style=\"text-align: right;\">\n",
       "      <th></th>\n",
       "      <th>Self_Employed</th>\n",
       "      <th>Loan_Amount_Term</th>\n",
       "    </tr>\n",
       "  </thead>\n",
       "  <tbody>\n",
       "    <tr>\n",
       "      <th>0</th>\n",
       "      <td>No</td>\n",
       "      <td>342.3</td>\n",
       "    </tr>\n",
       "    <tr>\n",
       "      <th>1</th>\n",
       "      <td>Yes</td>\n",
       "      <td>330.0</td>\n",
       "    </tr>\n",
       "  </tbody>\n",
       "</table>\n",
       "</div>"
      ],
      "text/plain": [
       "  Self_Employed  Loan_Amount_Term\n",
       "0            No             342.3\n",
       "1           Yes             330.0"
      ]
     },
     "execution_count": 21,
     "metadata": {},
     "output_type": "execute_result"
    }
   ],
   "source": [
    "#Create a bar plot of Avergae loan term by self employed\n",
    "avg_loan_term_by_employed=df.groupby(\"Self_Employed\")[\"Loan_Amount_Term\"].mean().reset_index()\n",
    "avg_loan_term_by_employed"
   ]
  },
  {
   "cell_type": "code",
   "execution_count": 22,
   "metadata": {
    "execution": {
     "iopub.execute_input": "2024-06-29T08:57:51.213964Z",
     "iopub.status.busy": "2024-06-29T08:57:51.213259Z",
     "iopub.status.idle": "2024-06-29T08:57:51.523445Z",
     "shell.execute_reply": "2024-06-29T08:57:51.522493Z",
     "shell.execute_reply.started": "2024-06-29T08:57:51.213924Z"
    }
   },
   "outputs": [
    {
     "data": {
      "image/png": "[encoded data removed]",
      "text/plain": [
       "<Figure size 640x480 with 1 Axes>"
      ]
     },
     "metadata": {},
     "output_type": "display_data"
    }
   ],
   "source": [
    "sns.barplot(x='Self_Employed',y='Loan_Amount_Term',data=avg_loan_term_by_employed)\n",
    "plt.title(\"Average loan term by Self Employed\")\n",
    "plt.xlabel(\"Self Employed\")\n",
    "plt.ylabel(\"Average Loan Term\")\n",
    "plt.show()\n",
    "#we can see that the average loan term is more for non self employed ones"
   ]
  },
  {
   "cell_type": "markdown",
   "metadata": {},
   "source": [
    "# 2.Feature Engineering (Modelling)"
   ]
  },
  {
   "cell_type": "code",
   "execution_count": 23,
   "metadata": {
    "execution": {
     "iopub.execute_input": "2024-06-29T08:57:56.217643Z",
     "iopub.status.busy": "2024-06-29T08:57:56.217254Z",
     "iopub.status.idle": "2024-06-29T08:57:56.238703Z",
     "shell.execute_reply": "2024-06-29T08:57:56.237721Z",
     "shell.execute_reply.started": "2024-06-29T08:57:56.217615Z"
    }
   },
   "outputs": [
    {
     "data": {
      "text/html": [
       "<div>\n",
       "<style scoped>\n",
       "    .dataframe tbody tr th:only-of-type {\n",
       "        vertical-align: middle;\n",
       "    }\n",
       "\n",
       "    .dataframe tbody tr th {\n",
       "        vertical-align: top;\n",
       "    }\n",
       "\n",
       "    .dataframe thead th {\n",
       "        text-align: right;\n",
       "    }\n",
       "</style>\n",
       "<table border=\"1\" class=\"dataframe\">\n",
       "  <thead>\n",
       "    <tr style=\"text-align: right;\">\n",
       "      <th></th>\n",
       "      <th>Loan_ID</th>\n",
       "      <th>Gender</th>\n",
       "      <th>Married</th>\n",
       "      <th>Dependents</th>\n",
       "      <th>Education</th>\n",
       "      <th>Self_Employed</th>\n",
       "      <th>ApplicantIncome</th>\n",
       "      <th>CoapplicantIncome</th>\n",
       "      <th>LoanAmount</th>\n",
       "      <th>Loan_Amount_Term</th>\n",
       "      <th>Credit_History</th>\n",
       "      <th>Property_Area</th>\n",
       "      <th>Loan_Status</th>\n",
       "    </tr>\n",
       "  </thead>\n",
       "  <tbody>\n",
       "    <tr>\n",
       "      <th>0</th>\n",
       "      <td>LP001003</td>\n",
       "      <td>Male</td>\n",
       "      <td>Yes</td>\n",
       "      <td>1</td>\n",
       "      <td>Graduate</td>\n",
       "      <td>No</td>\n",
       "      <td>4583</td>\n",
       "      <td>1508.0</td>\n",
       "      <td>128.0</td>\n",
       "      <td>360.0</td>\n",
       "      <td>1.0</td>\n",
       "      <td>Rural</td>\n",
       "      <td>N</td>\n",
       "    </tr>\n",
       "    <tr>\n",
       "      <th>1</th>\n",
       "      <td>LP001005</td>\n",
       "      <td>Male</td>\n",
       "      <td>Yes</td>\n",
       "      <td>0</td>\n",
       "      <td>Graduate</td>\n",
       "      <td>Yes</td>\n",
       "      <td>3000</td>\n",
       "      <td>0.0</td>\n",
       "      <td>66.0</td>\n",
       "      <td>360.0</td>\n",
       "      <td>1.0</td>\n",
       "      <td>Urban</td>\n",
       "      <td>Y</td>\n",
       "    </tr>\n",
       "    <tr>\n",
       "      <th>2</th>\n",
       "      <td>LP001006</td>\n",
       "      <td>Male</td>\n",
       "      <td>Yes</td>\n",
       "      <td>0</td>\n",
       "      <td>Not Graduate</td>\n",
       "      <td>No</td>\n",
       "      <td>2583</td>\n",
       "      <td>2358.0</td>\n",
       "      <td>120.0</td>\n",
       "      <td>360.0</td>\n",
       "      <td>1.0</td>\n",
       "      <td>Urban</td>\n",
       "      <td>Y</td>\n",
       "    </tr>\n",
       "    <tr>\n",
       "      <th>3</th>\n",
       "      <td>LP001008</td>\n",
       "      <td>Male</td>\n",
       "      <td>No</td>\n",
       "      <td>0</td>\n",
       "      <td>Graduate</td>\n",
       "      <td>No</td>\n",
       "      <td>6000</td>\n",
       "      <td>0.0</td>\n",
       "      <td>141.0</td>\n",
       "      <td>360.0</td>\n",
       "      <td>1.0</td>\n",
       "      <td>Urban</td>\n",
       "      <td>Y</td>\n",
       "    </tr>\n",
       "    <tr>\n",
       "      <th>4</th>\n",
       "      <td>LP001013</td>\n",
       "      <td>Male</td>\n",
       "      <td>Yes</td>\n",
       "      <td>0</td>\n",
       "      <td>Not Graduate</td>\n",
       "      <td>No</td>\n",
       "      <td>2333</td>\n",
       "      <td>1516.0</td>\n",
       "      <td>95.0</td>\n",
       "      <td>360.0</td>\n",
       "      <td>1.0</td>\n",
       "      <td>Urban</td>\n",
       "      <td>Y</td>\n",
       "    </tr>\n",
       "    <tr>\n",
       "      <th>...</th>\n",
       "      <td>...</td>\n",
       "      <td>...</td>\n",
       "      <td>...</td>\n",
       "      <td>...</td>\n",
       "      <td>...</td>\n",
       "      <td>...</td>\n",
       "      <td>...</td>\n",
       "      <td>...</td>\n",
       "      <td>...</td>\n",
       "      <td>...</td>\n",
       "      <td>...</td>\n",
       "      <td>...</td>\n",
       "      <td>...</td>\n",
       "    </tr>\n",
       "    <tr>\n",
       "      <th>376</th>\n",
       "      <td>LP002953</td>\n",
       "      <td>Male</td>\n",
       "      <td>Yes</td>\n",
       "      <td>3+</td>\n",
       "      <td>Graduate</td>\n",
       "      <td>No</td>\n",
       "      <td>5703</td>\n",
       "      <td>0.0</td>\n",
       "      <td>128.0</td>\n",
       "      <td>360.0</td>\n",
       "      <td>1.0</td>\n",
       "      <td>Urban</td>\n",
       "      <td>Y</td>\n",
       "    </tr>\n",
       "    <tr>\n",
       "      <th>377</th>\n",
       "      <td>LP002974</td>\n",
       "      <td>Male</td>\n",
       "      <td>Yes</td>\n",
       "      <td>0</td>\n",
       "      <td>Graduate</td>\n",
       "      <td>No</td>\n",
       "      <td>3232</td>\n",
       "      <td>1950.0</td>\n",
       "      <td>108.0</td>\n",
       "      <td>360.0</td>\n",
       "      <td>1.0</td>\n",
       "      <td>Rural</td>\n",
       "      <td>Y</td>\n",
       "    </tr>\n",
       "    <tr>\n",
       "      <th>378</th>\n",
       "      <td>LP002978</td>\n",
       "      <td>Female</td>\n",
       "      <td>No</td>\n",
       "      <td>0</td>\n",
       "      <td>Graduate</td>\n",
       "      <td>No</td>\n",
       "      <td>2900</td>\n",
       "      <td>0.0</td>\n",
       "      <td>71.0</td>\n",
       "      <td>360.0</td>\n",
       "      <td>1.0</td>\n",
       "      <td>Rural</td>\n",
       "      <td>Y</td>\n",
       "    </tr>\n",
       "    <tr>\n",
       "      <th>379</th>\n",
       "      <td>LP002979</td>\n",
       "      <td>Male</td>\n",
       "      <td>Yes</td>\n",
       "      <td>3+</td>\n",
       "      <td>Graduate</td>\n",
       "      <td>No</td>\n",
       "      <td>4106</td>\n",
       "      <td>0.0</td>\n",
       "      <td>40.0</td>\n",
       "      <td>180.0</td>\n",
       "      <td>1.0</td>\n",
       "      <td>Rural</td>\n",
       "      <td>Y</td>\n",
       "    </tr>\n",
       "    <tr>\n",
       "      <th>380</th>\n",
       "      <td>LP002990</td>\n",
       "      <td>Female</td>\n",
       "      <td>No</td>\n",
       "      <td>0</td>\n",
       "      <td>Graduate</td>\n",
       "      <td>Yes</td>\n",
       "      <td>4583</td>\n",
       "      <td>0.0</td>\n",
       "      <td>133.0</td>\n",
       "      <td>360.0</td>\n",
       "      <td>0.0</td>\n",
       "      <td>Semiurban</td>\n",
       "      <td>N</td>\n",
       "    </tr>\n",
       "  </tbody>\n",
       "</table>\n",
       "<p>308 rows × 13 columns</p>\n",
       "</div>"
      ],
      "text/plain": [
       "      Loan_ID  Gender Married Dependents     Education Self_Employed  \\\n",
       "0    LP001003    Male     Yes          1      Graduate            No   \n",
       "1    LP001005    Male     Yes          0      Graduate           Yes   \n",
       "2    LP001006    Male     Yes          0  Not Graduate            No   \n",
       "3    LP001008    Male      No          0      Graduate            No   \n",
       "4    LP001013    Male     Yes          0  Not Graduate            No   \n",
       "..        ...     ...     ...        ...           ...           ...   \n",
       "376  LP002953    Male     Yes         3+      Graduate            No   \n",
       "377  LP002974    Male     Yes          0      Graduate            No   \n",
       "378  LP002978  Female      No          0      Graduate            No   \n",
       "379  LP002979    Male     Yes         3+      Graduate            No   \n",
       "380  LP002990  Female      No          0      Graduate           Yes   \n",
       "\n",
       "     ApplicantIncome  CoapplicantIncome  LoanAmount  Loan_Amount_Term  \\\n",
       "0               4583             1508.0       128.0             360.0   \n",
       "1               3000                0.0        66.0             360.0   \n",
       "2               2583             2358.0       120.0             360.0   \n",
       "3               6000                0.0       141.0             360.0   \n",
       "4               2333             1516.0        95.0             360.0   \n",
       "..               ...                ...         ...               ...   \n",
       "376             5703                0.0       128.0             360.0   \n",
       "377             3232             1950.0       108.0             360.0   \n",
       "378             2900                0.0        71.0             360.0   \n",
       "379             4106                0.0        40.0             180.0   \n",
       "380             4583                0.0       133.0             360.0   \n",
       "\n",
       "     Credit_History Property_Area Loan_Status  \n",
       "0               1.0         Rural           N  \n",
       "1               1.0         Urban           Y  \n",
       "2               1.0         Urban           Y  \n",
       "3               1.0         Urban           Y  \n",
       "4               1.0         Urban           Y  \n",
       "..              ...           ...         ...  \n",
       "376             1.0         Urban           Y  \n",
       "377             1.0         Rural           Y  \n",
       "378             1.0         Rural           Y  \n",
       "379             1.0         Rural           Y  \n",
       "380             0.0     Semiurban           N  \n",
       "\n",
       "[308 rows x 13 columns]"
      ]
     },
     "execution_count": 23,
     "metadata": {},
     "output_type": "execute_result"
    }
   ],
   "source": [
    "df"
   ]
  },
  {
   "cell_type": "code",
   "execution_count": 24,
   "metadata": {
    "execution": {
     "iopub.execute_input": "2024-06-29T08:57:56.666247Z",
     "iopub.status.busy": "2024-06-29T08:57:56.665682Z",
     "iopub.status.idle": "2024-06-29T08:57:56.678167Z",
     "shell.execute_reply": "2024-06-29T08:57:56.677140Z",
     "shell.execute_reply.started": "2024-06-29T08:57:56.666213Z"
    }
   },
   "outputs": [
    {
     "data": {
      "text/html": [
       "<div>\n",
       "<style scoped>\n",
       "    .dataframe tbody tr th:only-of-type {\n",
       "        vertical-align: middle;\n",
       "    }\n",
       "\n",
       "    .dataframe tbody tr th {\n",
       "        vertical-align: top;\n",
       "    }\n",
       "\n",
       "    .dataframe thead th {\n",
       "        text-align: right;\n",
       "    }\n",
       "</style>\n",
       "<table border=\"1\" class=\"dataframe\">\n",
       "  <thead>\n",
       "    <tr style=\"text-align: right;\">\n",
       "      <th></th>\n",
       "      <th>Loan_Status</th>\n",
       "    </tr>\n",
       "  </thead>\n",
       "  <tbody>\n",
       "    <tr>\n",
       "      <th>0</th>\n",
       "      <td>N</td>\n",
       "    </tr>\n",
       "    <tr>\n",
       "      <th>1</th>\n",
       "      <td>Y</td>\n",
       "    </tr>\n",
       "    <tr>\n",
       "      <th>2</th>\n",
       "      <td>Y</td>\n",
       "    </tr>\n",
       "    <tr>\n",
       "      <th>3</th>\n",
       "      <td>Y</td>\n",
       "    </tr>\n",
       "    <tr>\n",
       "      <th>4</th>\n",
       "      <td>Y</td>\n",
       "    </tr>\n",
       "    <tr>\n",
       "      <th>...</th>\n",
       "      <td>...</td>\n",
       "    </tr>\n",
       "    <tr>\n",
       "      <th>376</th>\n",
       "      <td>Y</td>\n",
       "    </tr>\n",
       "    <tr>\n",
       "      <th>377</th>\n",
       "      <td>Y</td>\n",
       "    </tr>\n",
       "    <tr>\n",
       "      <th>378</th>\n",
       "      <td>Y</td>\n",
       "    </tr>\n",
       "    <tr>\n",
       "      <th>379</th>\n",
       "      <td>Y</td>\n",
       "    </tr>\n",
       "    <tr>\n",
       "      <th>380</th>\n",
       "      <td>N</td>\n",
       "    </tr>\n",
       "  </tbody>\n",
       "</table>\n",
       "<p>308 rows × 1 columns</p>\n",
       "</div>"
      ],
      "text/plain": [
       "    Loan_Status\n",
       "0             N\n",
       "1             Y\n",
       "2             Y\n",
       "3             Y\n",
       "4             Y\n",
       "..          ...\n",
       "376           Y\n",
       "377           Y\n",
       "378           Y\n",
       "379           Y\n",
       "380           N\n",
       "\n",
       "[308 rows x 1 columns]"
      ]
     },
     "execution_count": 24,
     "metadata": {},
     "output_type": "execute_result"
    }
   ],
   "source": [
    "X=df[[\"Married\",\"ApplicantIncome\",\"Education\",\"LoanAmount\",\"Credit_History\"]]\n",
    "Y=df[[\"Loan_Status\"]]\n",
    "Y"
   ]
  },
  {
   "cell_type": "code",
   "execution_count": 25,
   "metadata": {
    "execution": {
     "iopub.execute_input": "2024-06-29T08:57:57.256734Z",
     "iopub.status.busy": "2024-06-29T08:57:57.256364Z",
     "iopub.status.idle": "2024-06-29T08:57:57.261706Z",
     "shell.execute_reply": "2024-06-29T08:57:57.260566Z",
     "shell.execute_reply.started": "2024-06-29T08:57:57.256707Z"
    }
   },
   "outputs": [],
   "source": [
    "# import prep procesing and use label encoder to change this text features to numeric ones\n",
    "from sklearn import preprocessing\n",
    "labelencoder=preprocessing.LabelEncoder()"
   ]
  },
  {
   "cell_type": "code",
   "execution_count": 26,
   "metadata": {
    "execution": {
     "iopub.execute_input": "2024-06-29T08:57:59.055650Z",
     "iopub.status.busy": "2024-06-29T08:57:59.054729Z",
     "iopub.status.idle": "2024-06-29T08:57:59.066198Z",
     "shell.execute_reply": "2024-06-29T08:57:59.065198Z",
     "shell.execute_reply.started": "2024-06-29T08:57:59.055613Z"
    }
   },
   "outputs": [
    {
     "name": "stderr",
     "output_type": "stream",
     "text": [
      "C:\\Users\\satvi\\AppData\\Local\\Temp\\ipykernel_13820\\1332468423.py:1: SettingWithCopyWarning: \n",
      "A value is trying to be set on a copy of a slice from a DataFrame.\n",
      "Try using .loc[row_indexer,col_indexer] = value instead\n",
      "\n",
      "See the caveats in the documentation: https://pandas.pydata.org/pandas-docs/stable/user_guide/indexing.html#returning-a-view-versus-a-copy\n",
      "  Y['Loan_Status']=labelencoder.fit_transform(Y[\"Loan_Status\"])\n"
     ]
    },
    {
     "data": {
      "text/html": [
       "<div>\n",
       "<style scoped>\n",
       "    .dataframe tbody tr th:only-of-type {\n",
       "        vertical-align: middle;\n",
       "    }\n",
       "\n",
       "    .dataframe tbody tr th {\n",
       "        vertical-align: top;\n",
       "    }\n",
       "\n",
       "    .dataframe thead th {\n",
       "        text-align: right;\n",
       "    }\n",
       "</style>\n",
       "<table border=\"1\" class=\"dataframe\">\n",
       "  <thead>\n",
       "    <tr style=\"text-align: right;\">\n",
       "      <th></th>\n",
       "      <th>Loan_Status</th>\n",
       "    </tr>\n",
       "  </thead>\n",
       "  <tbody>\n",
       "    <tr>\n",
       "      <th>0</th>\n",
       "      <td>0</td>\n",
       "    </tr>\n",
       "    <tr>\n",
       "      <th>1</th>\n",
       "      <td>1</td>\n",
       "    </tr>\n",
       "    <tr>\n",
       "      <th>2</th>\n",
       "      <td>1</td>\n",
       "    </tr>\n",
       "    <tr>\n",
       "      <th>3</th>\n",
       "      <td>1</td>\n",
       "    </tr>\n",
       "    <tr>\n",
       "      <th>4</th>\n",
       "      <td>1</td>\n",
       "    </tr>\n",
       "    <tr>\n",
       "      <th>...</th>\n",
       "      <td>...</td>\n",
       "    </tr>\n",
       "    <tr>\n",
       "      <th>376</th>\n",
       "      <td>1</td>\n",
       "    </tr>\n",
       "    <tr>\n",
       "      <th>377</th>\n",
       "      <td>1</td>\n",
       "    </tr>\n",
       "    <tr>\n",
       "      <th>378</th>\n",
       "      <td>1</td>\n",
       "    </tr>\n",
       "    <tr>\n",
       "      <th>379</th>\n",
       "      <td>1</td>\n",
       "    </tr>\n",
       "    <tr>\n",
       "      <th>380</th>\n",
       "      <td>0</td>\n",
       "    </tr>\n",
       "  </tbody>\n",
       "</table>\n",
       "<p>308 rows × 1 columns</p>\n",
       "</div>"
      ],
      "text/plain": [
       "     Loan_Status\n",
       "0              0\n",
       "1              1\n",
       "2              1\n",
       "3              1\n",
       "4              1\n",
       "..           ...\n",
       "376            1\n",
       "377            1\n",
       "378            1\n",
       "379            1\n",
       "380            0\n",
       "\n",
       "[308 rows x 1 columns]"
      ]
     },
     "execution_count": 26,
     "metadata": {},
     "output_type": "execute_result"
    }
   ],
   "source": [
    "Y['Loan_Status']=labelencoder.fit_transform(Y[\"Loan_Status\"])\n",
    "Y"
   ]
  },
  {
   "cell_type": "code",
   "execution_count": 27,
   "metadata": {
    "execution": {
     "iopub.execute_input": "2024-06-29T08:57:59.713992Z",
     "iopub.status.busy": "2024-06-29T08:57:59.713341Z",
     "iopub.status.idle": "2024-06-29T08:57:59.720498Z",
     "shell.execute_reply": "2024-06-29T08:57:59.719352Z",
     "shell.execute_reply.started": "2024-06-29T08:57:59.713962Z"
    }
   },
   "outputs": [
    {
     "data": {
      "text/plain": [
       "array(['N', 'Y'], dtype=object)"
      ]
     },
     "execution_count": 27,
     "metadata": {},
     "output_type": "execute_result"
    }
   ],
   "source": [
    "labelencoder.classes_"
   ]
  },
  {
   "cell_type": "code",
   "execution_count": 28,
   "metadata": {
    "execution": {
     "iopub.execute_input": "2024-06-29T08:58:00.532808Z",
     "iopub.status.busy": "2024-06-29T08:58:00.532103Z",
     "iopub.status.idle": "2024-06-29T08:58:00.546808Z",
     "shell.execute_reply": "2024-06-29T08:58:00.545509Z",
     "shell.execute_reply.started": "2024-06-29T08:58:00.532776Z"
    }
   },
   "outputs": [
    {
     "data": {
      "text/html": [
       "<div>\n",
       "<style scoped>\n",
       "    .dataframe tbody tr th:only-of-type {\n",
       "        vertical-align: middle;\n",
       "    }\n",
       "\n",
       "    .dataframe tbody tr th {\n",
       "        vertical-align: top;\n",
       "    }\n",
       "\n",
       "    .dataframe thead th {\n",
       "        text-align: right;\n",
       "    }\n",
       "</style>\n",
       "<table border=\"1\" class=\"dataframe\">\n",
       "  <thead>\n",
       "    <tr style=\"text-align: right;\">\n",
       "      <th></th>\n",
       "      <th>Married</th>\n",
       "      <th>ApplicantIncome</th>\n",
       "      <th>Education</th>\n",
       "      <th>LoanAmount</th>\n",
       "      <th>Credit_History</th>\n",
       "    </tr>\n",
       "  </thead>\n",
       "  <tbody>\n",
       "    <tr>\n",
       "      <th>0</th>\n",
       "      <td>Yes</td>\n",
       "      <td>4583</td>\n",
       "      <td>Graduate</td>\n",
       "      <td>128.0</td>\n",
       "      <td>1.0</td>\n",
       "    </tr>\n",
       "    <tr>\n",
       "      <th>1</th>\n",
       "      <td>Yes</td>\n",
       "      <td>3000</td>\n",
       "      <td>Graduate</td>\n",
       "      <td>66.0</td>\n",
       "      <td>1.0</td>\n",
       "    </tr>\n",
       "    <tr>\n",
       "      <th>2</th>\n",
       "      <td>Yes</td>\n",
       "      <td>2583</td>\n",
       "      <td>Not Graduate</td>\n",
       "      <td>120.0</td>\n",
       "      <td>1.0</td>\n",
       "    </tr>\n",
       "    <tr>\n",
       "      <th>3</th>\n",
       "      <td>No</td>\n",
       "      <td>6000</td>\n",
       "      <td>Graduate</td>\n",
       "      <td>141.0</td>\n",
       "      <td>1.0</td>\n",
       "    </tr>\n",
       "    <tr>\n",
       "      <th>4</th>\n",
       "      <td>Yes</td>\n",
       "      <td>2333</td>\n",
       "      <td>Not Graduate</td>\n",
       "      <td>95.0</td>\n",
       "      <td>1.0</td>\n",
       "    </tr>\n",
       "    <tr>\n",
       "      <th>...</th>\n",
       "      <td>...</td>\n",
       "      <td>...</td>\n",
       "      <td>...</td>\n",
       "      <td>...</td>\n",
       "      <td>...</td>\n",
       "    </tr>\n",
       "    <tr>\n",
       "      <th>376</th>\n",
       "      <td>Yes</td>\n",
       "      <td>5703</td>\n",
       "      <td>Graduate</td>\n",
       "      <td>128.0</td>\n",
       "      <td>1.0</td>\n",
       "    </tr>\n",
       "    <tr>\n",
       "      <th>377</th>\n",
       "      <td>Yes</td>\n",
       "      <td>3232</td>\n",
       "      <td>Graduate</td>\n",
       "      <td>108.0</td>\n",
       "      <td>1.0</td>\n",
       "    </tr>\n",
       "    <tr>\n",
       "      <th>378</th>\n",
       "      <td>No</td>\n",
       "      <td>2900</td>\n",
       "      <td>Graduate</td>\n",
       "      <td>71.0</td>\n",
       "      <td>1.0</td>\n",
       "    </tr>\n",
       "    <tr>\n",
       "      <th>379</th>\n",
       "      <td>Yes</td>\n",
       "      <td>4106</td>\n",
       "      <td>Graduate</td>\n",
       "      <td>40.0</td>\n",
       "      <td>1.0</td>\n",
       "    </tr>\n",
       "    <tr>\n",
       "      <th>380</th>\n",
       "      <td>No</td>\n",
       "      <td>4583</td>\n",
       "      <td>Graduate</td>\n",
       "      <td>133.0</td>\n",
       "      <td>0.0</td>\n",
       "    </tr>\n",
       "  </tbody>\n",
       "</table>\n",
       "<p>308 rows × 5 columns</p>\n",
       "</div>"
      ],
      "text/plain": [
       "    Married  ApplicantIncome     Education  LoanAmount  Credit_History\n",
       "0       Yes             4583      Graduate       128.0             1.0\n",
       "1       Yes             3000      Graduate        66.0             1.0\n",
       "2       Yes             2583  Not Graduate       120.0             1.0\n",
       "3        No             6000      Graduate       141.0             1.0\n",
       "4       Yes             2333  Not Graduate        95.0             1.0\n",
       "..      ...              ...           ...         ...             ...\n",
       "376     Yes             5703      Graduate       128.0             1.0\n",
       "377     Yes             3232      Graduate       108.0             1.0\n",
       "378      No             2900      Graduate        71.0             1.0\n",
       "379     Yes             4106      Graduate        40.0             1.0\n",
       "380      No             4583      Graduate       133.0             0.0\n",
       "\n",
       "[308 rows x 5 columns]"
      ]
     },
     "execution_count": 28,
     "metadata": {},
     "output_type": "execute_result"
    }
   ],
   "source": [
    "#Change the label for X\n",
    "X"
   ]
  },
  {
   "cell_type": "code",
   "execution_count": 29,
   "metadata": {
    "execution": {
     "iopub.execute_input": "2024-06-29T08:58:01.224323Z",
     "iopub.status.busy": "2024-06-29T08:58:01.223586Z",
     "iopub.status.idle": "2024-06-29T08:58:01.240780Z",
     "shell.execute_reply": "2024-06-29T08:58:01.239673Z",
     "shell.execute_reply.started": "2024-06-29T08:58:01.224289Z"
    }
   },
   "outputs": [
    {
     "name": "stderr",
     "output_type": "stream",
     "text": [
      "C:\\Users\\satvi\\AppData\\Local\\Temp\\ipykernel_13820\\671774693.py:1: SettingWithCopyWarning: \n",
      "A value is trying to be set on a copy of a slice from a DataFrame.\n",
      "Try using .loc[row_indexer,col_indexer] = value instead\n",
      "\n",
      "See the caveats in the documentation: https://pandas.pydata.org/pandas-docs/stable/user_guide/indexing.html#returning-a-view-versus-a-copy\n",
      "  X[\"Married\"]=labelencoder.fit_transform(X[\"Married\"])\n",
      "C:\\Users\\satvi\\AppData\\Local\\Temp\\ipykernel_13820\\671774693.py:2: SettingWithCopyWarning: \n",
      "A value is trying to be set on a copy of a slice from a DataFrame.\n",
      "Try using .loc[row_indexer,col_indexer] = value instead\n",
      "\n",
      "See the caveats in the documentation: https://pandas.pydata.org/pandas-docs/stable/user_guide/indexing.html#returning-a-view-versus-a-copy\n",
      "  X[\"Education\"]=labelencoder.fit_transform(X[\"Education\"])\n"
     ]
    },
    {
     "data": {
      "text/html": [
       "<div>\n",
       "<style scoped>\n",
       "    .dataframe tbody tr th:only-of-type {\n",
       "        vertical-align: middle;\n",
       "    }\n",
       "\n",
       "    .dataframe tbody tr th {\n",
       "        vertical-align: top;\n",
       "    }\n",
       "\n",
       "    .dataframe thead th {\n",
       "        text-align: right;\n",
       "    }\n",
       "</style>\n",
       "<table border=\"1\" class=\"dataframe\">\n",
       "  <thead>\n",
       "    <tr style=\"text-align: right;\">\n",
       "      <th></th>\n",
       "      <th>Married</th>\n",
       "      <th>ApplicantIncome</th>\n",
       "      <th>Education</th>\n",
       "      <th>LoanAmount</th>\n",
       "      <th>Credit_History</th>\n",
       "    </tr>\n",
       "  </thead>\n",
       "  <tbody>\n",
       "    <tr>\n",
       "      <th>0</th>\n",
       "      <td>1</td>\n",
       "      <td>4583</td>\n",
       "      <td>0</td>\n",
       "      <td>128.0</td>\n",
       "      <td>1.0</td>\n",
       "    </tr>\n",
       "    <tr>\n",
       "      <th>1</th>\n",
       "      <td>1</td>\n",
       "      <td>3000</td>\n",
       "      <td>0</td>\n",
       "      <td>66.0</td>\n",
       "      <td>1.0</td>\n",
       "    </tr>\n",
       "    <tr>\n",
       "      <th>2</th>\n",
       "      <td>1</td>\n",
       "      <td>2583</td>\n",
       "      <td>1</td>\n",
       "      <td>120.0</td>\n",
       "      <td>1.0</td>\n",
       "    </tr>\n",
       "    <tr>\n",
       "      <th>3</th>\n",
       "      <td>0</td>\n",
       "      <td>6000</td>\n",
       "      <td>0</td>\n",
       "      <td>141.0</td>\n",
       "      <td>1.0</td>\n",
       "    </tr>\n",
       "    <tr>\n",
       "      <th>4</th>\n",
       "      <td>1</td>\n",
       "      <td>2333</td>\n",
       "      <td>1</td>\n",
       "      <td>95.0</td>\n",
       "      <td>1.0</td>\n",
       "    </tr>\n",
       "    <tr>\n",
       "      <th>...</th>\n",
       "      <td>...</td>\n",
       "      <td>...</td>\n",
       "      <td>...</td>\n",
       "      <td>...</td>\n",
       "      <td>...</td>\n",
       "    </tr>\n",
       "    <tr>\n",
       "      <th>376</th>\n",
       "      <td>1</td>\n",
       "      <td>5703</td>\n",
       "      <td>0</td>\n",
       "      <td>128.0</td>\n",
       "      <td>1.0</td>\n",
       "    </tr>\n",
       "    <tr>\n",
       "      <th>377</th>\n",
       "      <td>1</td>\n",
       "      <td>3232</td>\n",
       "      <td>0</td>\n",
       "      <td>108.0</td>\n",
       "      <td>1.0</td>\n",
       "    </tr>\n",
       "    <tr>\n",
       "      <th>378</th>\n",
       "      <td>0</td>\n",
       "      <td>2900</td>\n",
       "      <td>0</td>\n",
       "      <td>71.0</td>\n",
       "      <td>1.0</td>\n",
       "    </tr>\n",
       "    <tr>\n",
       "      <th>379</th>\n",
       "      <td>1</td>\n",
       "      <td>4106</td>\n",
       "      <td>0</td>\n",
       "      <td>40.0</td>\n",
       "      <td>1.0</td>\n",
       "    </tr>\n",
       "    <tr>\n",
       "      <th>380</th>\n",
       "      <td>0</td>\n",
       "      <td>4583</td>\n",
       "      <td>0</td>\n",
       "      <td>133.0</td>\n",
       "      <td>0.0</td>\n",
       "    </tr>\n",
       "  </tbody>\n",
       "</table>\n",
       "<p>308 rows × 5 columns</p>\n",
       "</div>"
      ],
      "text/plain": [
       "     Married  ApplicantIncome  Education  LoanAmount  Credit_History\n",
       "0          1             4583          0       128.0             1.0\n",
       "1          1             3000          0        66.0             1.0\n",
       "2          1             2583          1       120.0             1.0\n",
       "3          0             6000          0       141.0             1.0\n",
       "4          1             2333          1        95.0             1.0\n",
       "..       ...              ...        ...         ...             ...\n",
       "376        1             5703          0       128.0             1.0\n",
       "377        1             3232          0       108.0             1.0\n",
       "378        0             2900          0        71.0             1.0\n",
       "379        1             4106          0        40.0             1.0\n",
       "380        0             4583          0       133.0             0.0\n",
       "\n",
       "[308 rows x 5 columns]"
      ]
     },
     "execution_count": 29,
     "metadata": {},
     "output_type": "execute_result"
    }
   ],
   "source": [
    "X[\"Married\"]=labelencoder.fit_transform(X[\"Married\"])\n",
    "X[\"Education\"]=labelencoder.fit_transform(X[\"Education\"])\n",
    "X\n",
    "#example entry for X: 0 3500 1 100 1"
   ]
  },
  {
   "cell_type": "code",
   "execution_count": 30,
   "metadata": {
    "execution": {
     "iopub.execute_input": "2024-06-29T08:58:11.476562Z",
     "iopub.status.busy": "2024-06-29T08:58:11.475799Z",
     "iopub.status.idle": "2024-06-29T08:58:11.481318Z",
     "shell.execute_reply": "2024-06-29T08:58:11.480225Z",
     "shell.execute_reply.started": "2024-06-29T08:58:11.476527Z"
    }
   },
   "outputs": [],
   "source": [
    "#scaling the model : as we don't want the \"AplicantIncone\"ield to dominate the model result\n",
    "from sklearn.preprocessing import StandardScaler\n",
    "scaler=StandardScaler()"
   ]
  },
  {
   "cell_type": "code",
   "execution_count": 31,
   "metadata": {
    "execution": {
     "iopub.execute_input": "2024-06-29T08:58:12.266508Z",
     "iopub.status.busy": "2024-06-29T08:58:12.265741Z",
     "iopub.status.idle": "2024-06-29T08:58:12.276846Z",
     "shell.execute_reply": "2024-06-29T08:58:12.275912Z",
     "shell.execute_reply.started": "2024-06-29T08:58:12.266473Z"
    }
   },
   "outputs": [
    {
     "data": {
      "text/plain": [
       "array([[ 0.81539246,  0.67389339, -0.58734842,  0.79689813,  0.41364557],\n",
       "       [ 0.81539246, -0.41036528, -0.58734842, -1.31665281,  0.41364557],\n",
       "       [ 0.81539246, -0.6959849 ,  1.70256694,  0.52418188,  0.41364557],\n",
       "       ...,\n",
       "       [-1.22640329, -0.47885919, -0.58734842, -1.14620515,  0.41364557],\n",
       "       [ 0.81539246,  0.34717742, -0.58734842, -2.20298062,  0.41364557],\n",
       "       [-1.22640329,  0.67389339, -0.58734842,  0.96734579, -2.41752858]])"
      ]
     },
     "execution_count": 31,
     "metadata": {},
     "output_type": "execute_result"
    }
   ],
   "source": [
    "X=scaler.fit_transform(X)\n",
    "X"
   ]
  },
  {
   "cell_type": "code",
   "execution_count": 32,
   "metadata": {
    "execution": {
     "iopub.execute_input": "2024-06-29T08:58:19.723635Z",
     "iopub.status.busy": "2024-06-29T08:58:19.722960Z",
     "iopub.status.idle": "2024-06-29T08:58:19.731239Z",
     "shell.execute_reply": "2024-06-29T08:58:19.730203Z",
     "shell.execute_reply.started": "2024-06-29T08:58:19.723600Z"
    }
   },
   "outputs": [
    {
     "data": {
      "text/plain": [
       "['Scaler.pkl']"
      ]
     },
     "execution_count": 32,
     "metadata": {},
     "output_type": "execute_result"
    }
   ],
   "source": [
    "#Export the scaler since we are going to use that in our FAST API\n",
    "import joblib\n",
    "joblib.dump(scaler,\"Scaler.pkl\")"
   ]
  },
  {
   "cell_type": "markdown",
   "metadata": {},
   "source": [
    "# 3. Training ML Models"
   ]
  },
  {
   "cell_type": "code",
   "execution_count": 33,
   "metadata": {
    "execution": {
     "iopub.execute_input": "2024-06-29T08:58:22.831289Z",
     "iopub.status.busy": "2024-06-29T08:58:22.830878Z",
     "iopub.status.idle": "2024-06-29T08:58:22.838890Z",
     "shell.execute_reply": "2024-06-29T08:58:22.838037Z",
     "shell.execute_reply.started": "2024-06-29T08:58:22.831258Z"
    }
   },
   "outputs": [],
   "source": [
    "#Split the data for training and testing\n",
    "#\"test_size\" is the percentage of data that are going to be in he test  set\n",
    "from sklearn.model_selection import train_test_split\n",
    "x_train,x_test,y_train,y_test =train_test_split(X,Y,test_size=0.2) #20% data in test set"
   ]
  },
  {
   "cell_type": "code",
   "execution_count": 34,
   "metadata": {
    "execution": {
     "iopub.execute_input": "2024-06-29T08:58:24.248289Z",
     "iopub.status.busy": "2024-06-29T08:58:24.247890Z",
     "iopub.status.idle": "2024-06-29T08:58:24.253374Z",
     "shell.execute_reply": "2024-06-29T08:58:24.252454Z",
     "shell.execute_reply.started": "2024-06-29T08:58:24.248255Z"
    }
   },
   "outputs": [],
   "source": [
    "#Defining a function for getting model result (so we dont need to write again and again)\n",
    "from sklearn.metrics import accuracy_score\n",
    "\n",
    "def model_performance(predictions):\n",
    "    print(\"Accuracy score of the model is {}\".format(accuracy_score(y_test,predictions)))"
   ]
  },
  {
   "cell_type": "markdown",
   "metadata": {},
   "source": [
    "**LOGISTIC REGRESSION**"
   ]
  },
  {
   "cell_type": "code",
   "execution_count": 35,
   "metadata": {
    "execution": {
     "iopub.execute_input": "2024-06-29T08:58:25.092656Z",
     "iopub.status.busy": "2024-06-29T08:58:25.092266Z",
     "iopub.status.idle": "2024-06-29T08:58:25.097387Z",
     "shell.execute_reply": "2024-06-29T08:58:25.096207Z",
     "shell.execute_reply.started": "2024-06-29T08:58:25.092624Z"
    }
   },
   "outputs": [],
   "source": [
    "#now we can start model prdiction\n",
    "#first we are going to import grid search which will help us inn p[arameter tuning\n",
    "from sklearn.model_selection import GridSearchCV\n",
    "from sklearn.linear_model import LogisticRegression #logistic regression do not require gridsearch"
   ]
  },
  {
   "cell_type": "code",
   "execution_count": 36,
   "metadata": {
    "execution": {
     "iopub.execute_input": "2024-06-29T08:58:26.088996Z",
     "iopub.status.busy": "2024-06-29T08:58:26.088079Z",
     "iopub.status.idle": "2024-06-29T08:58:26.102582Z",
     "shell.execute_reply": "2024-06-29T08:58:26.101576Z",
     "shell.execute_reply.started": "2024-06-29T08:58:26.088962Z"
    }
   },
   "outputs": [
    {
     "name": "stderr",
     "output_type": "stream",
     "text": [
      "c:\\Users\\satvi\\anaconda3\\Lib\\site-packages\\sklearn\\utils\\validation.py:1184: DataConversionWarning: A column-vector y was passed when a 1d array was expected. Please change the shape of y to (n_samples, ), for example using ravel().\n",
      "  y = column_or_1d(y, warn=True)\n"
     ]
    }
   ],
   "source": [
    "#Logistic regression\n",
    "logistic_model=LogisticRegression()\n",
    "logistic_model.fit(x_train,y_train) #training model   (can also use y_train.values.ravel())\n",
    "logistic_predictions=logistic_model.predict(x_test) #model predict"
   ]
  },
  {
   "cell_type": "code",
   "execution_count": 37,
   "metadata": {
    "execution": {
     "iopub.execute_input": "2024-06-29T08:58:47.754045Z",
     "iopub.status.busy": "2024-06-29T08:58:47.753187Z",
     "iopub.status.idle": "2024-06-29T08:58:47.762171Z",
     "shell.execute_reply": "2024-06-29T08:58:47.761204Z",
     "shell.execute_reply.started": "2024-06-29T08:58:47.754011Z"
    }
   },
   "outputs": [
    {
     "name": "stdout",
     "output_type": "stream",
     "text": [
      "Accuracy score of the model is 0.8870967741935484\n"
     ]
    }
   ],
   "source": [
    "#accuracy of the model\n",
    "model_performance(logistic_predictions)"
   ]
  },
  {
   "cell_type": "markdown",
   "metadata": {},
   "source": [
    "**K NEIGHBOURS CLASSIFIER**"
   ]
  },
  {
   "cell_type": "code",
   "execution_count": 38,
   "metadata": {
    "execution": {
     "iopub.execute_input": "2024-06-29T09:11:11.879630Z",
     "iopub.status.busy": "2024-06-29T09:11:11.878914Z",
     "iopub.status.idle": "2024-06-29T09:11:12.109677Z",
     "shell.execute_reply": "2024-06-29T09:11:12.108646Z",
     "shell.execute_reply.started": "2024-06-29T09:11:11.879594Z"
    }
   },
   "outputs": [
    {
     "name": "stderr",
     "output_type": "stream",
     "text": [
      "c:\\Users\\satvi\\anaconda3\\Lib\\site-packages\\sklearn\\neighbors\\_classification.py:228: DataConversionWarning: A column-vector y was passed when a 1d array was expected. Please change the shape of y to (n_samples,), for example using ravel().\n",
      "  return self._fit(X, y)\n",
      "c:\\Users\\satvi\\anaconda3\\Lib\\site-packages\\sklearn\\neighbors\\_classification.py:228: DataConversionWarning: A column-vector y was passed when a 1d array was expected. Please change the shape of y to (n_samples,), for example using ravel().\n",
      "  return self._fit(X, y)\n",
      "c:\\Users\\satvi\\anaconda3\\Lib\\site-packages\\sklearn\\neighbors\\_classification.py:228: DataConversionWarning: A column-vector y was passed when a 1d array was expected. Please change the shape of y to (n_samples,), for example using ravel().\n",
      "  return self._fit(X, y)\n",
      "c:\\Users\\satvi\\anaconda3\\Lib\\site-packages\\sklearn\\neighbors\\_classification.py:228: DataConversionWarning: A column-vector y was passed when a 1d array was expected. Please change the shape of y to (n_samples,), for example using ravel().\n",
      "  return self._fit(X, y)\n",
      "c:\\Users\\satvi\\anaconda3\\Lib\\site-packages\\sklearn\\neighbors\\_classification.py:228: DataConversionWarning: A column-vector y was passed when a 1d array was expected. Please change the shape of y to (n_samples,), for example using ravel().\n",
      "  return self._fit(X, y)\n",
      "c:\\Users\\satvi\\anaconda3\\Lib\\site-packages\\sklearn\\neighbors\\_classification.py:228: DataConversionWarning: A column-vector y was passed when a 1d array was expected. Please change the shape of y to (n_samples,), for example using ravel().\n",
      "  return self._fit(X, y)\n",
      "c:\\Users\\satvi\\anaconda3\\Lib\\site-packages\\sklearn\\neighbors\\_classification.py:228: DataConversionWarning: A column-vector y was passed when a 1d array was expected. Please change the shape of y to (n_samples,), for example using ravel().\n",
      "  return self._fit(X, y)\n",
      "c:\\Users\\satvi\\anaconda3\\Lib\\site-packages\\sklearn\\neighbors\\_classification.py:228: DataConversionWarning: A column-vector y was passed when a 1d array was expected. Please change the shape of y to (n_samples,), for example using ravel().\n",
      "  return self._fit(X, y)\n",
      "c:\\Users\\satvi\\anaconda3\\Lib\\site-packages\\sklearn\\neighbors\\_classification.py:228: DataConversionWarning: A column-vector y was passed when a 1d array was expected. Please change the shape of y to (n_samples,), for example using ravel().\n",
      "  return self._fit(X, y)\n",
      "c:\\Users\\satvi\\anaconda3\\Lib\\site-packages\\sklearn\\neighbors\\_classification.py:228: DataConversionWarning: A column-vector y was passed when a 1d array was expected. Please change the shape of y to (n_samples,), for example using ravel().\n",
      "  return self._fit(X, y)\n",
      "c:\\Users\\satvi\\anaconda3\\Lib\\site-packages\\sklearn\\neighbors\\_classification.py:228: DataConversionWarning: A column-vector y was passed when a 1d array was expected. Please change the shape of y to (n_samples,), for example using ravel().\n",
      "  return self._fit(X, y)\n",
      "c:\\Users\\satvi\\anaconda3\\Lib\\site-packages\\sklearn\\neighbors\\_classification.py:228: DataConversionWarning: A column-vector y was passed when a 1d array was expected. Please change the shape of y to (n_samples,), for example using ravel().\n",
      "  return self._fit(X, y)\n",
      "c:\\Users\\satvi\\anaconda3\\Lib\\site-packages\\sklearn\\neighbors\\_classification.py:228: DataConversionWarning: A column-vector y was passed when a 1d array was expected. Please change the shape of y to (n_samples,), for example using ravel().\n",
      "  return self._fit(X, y)\n",
      "c:\\Users\\satvi\\anaconda3\\Lib\\site-packages\\sklearn\\neighbors\\_classification.py:228: DataConversionWarning: A column-vector y was passed when a 1d array was expected. Please change the shape of y to (n_samples,), for example using ravel().\n",
      "  return self._fit(X, y)\n",
      "c:\\Users\\satvi\\anaconda3\\Lib\\site-packages\\sklearn\\neighbors\\_classification.py:228: DataConversionWarning: A column-vector y was passed when a 1d array was expected. Please change the shape of y to (n_samples,), for example using ravel().\n",
      "  return self._fit(X, y)\n",
      "c:\\Users\\satvi\\anaconda3\\Lib\\site-packages\\sklearn\\neighbors\\_classification.py:228: DataConversionWarning: A column-vector y was passed when a 1d array was expected. Please change the shape of y to (n_samples,), for example using ravel().\n",
      "  return self._fit(X, y)\n",
      "c:\\Users\\satvi\\anaconda3\\Lib\\site-packages\\sklearn\\neighbors\\_classification.py:228: DataConversionWarning: A column-vector y was passed when a 1d array was expected. Please change the shape of y to (n_samples,), for example using ravel().\n",
      "  return self._fit(X, y)\n",
      "c:\\Users\\satvi\\anaconda3\\Lib\\site-packages\\sklearn\\neighbors\\_classification.py:228: DataConversionWarning: A column-vector y was passed when a 1d array was expected. Please change the shape of y to (n_samples,), for example using ravel().\n",
      "  return self._fit(X, y)\n",
      "c:\\Users\\satvi\\anaconda3\\Lib\\site-packages\\sklearn\\neighbors\\_classification.py:228: DataConversionWarning: A column-vector y was passed when a 1d array was expected. Please change the shape of y to (n_samples,), for example using ravel().\n",
      "  return self._fit(X, y)\n",
      "c:\\Users\\satvi\\anaconda3\\Lib\\site-packages\\sklearn\\neighbors\\_classification.py:228: DataConversionWarning: A column-vector y was passed when a 1d array was expected. Please change the shape of y to (n_samples,), for example using ravel().\n",
      "  return self._fit(X, y)\n",
      "c:\\Users\\satvi\\anaconda3\\Lib\\site-packages\\sklearn\\neighbors\\_classification.py:228: DataConversionWarning: A column-vector y was passed when a 1d array was expected. Please change the shape of y to (n_samples,), for example using ravel().\n",
      "  return self._fit(X, y)\n",
      "c:\\Users\\satvi\\anaconda3\\Lib\\site-packages\\sklearn\\neighbors\\_classification.py:228: DataConversionWarning: A column-vector y was passed when a 1d array was expected. Please change the shape of y to (n_samples,), for example using ravel().\n",
      "  return self._fit(X, y)\n",
      "c:\\Users\\satvi\\anaconda3\\Lib\\site-packages\\sklearn\\neighbors\\_classification.py:228: DataConversionWarning: A column-vector y was passed when a 1d array was expected. Please change the shape of y to (n_samples,), for example using ravel().\n",
      "  return self._fit(X, y)\n",
      "c:\\Users\\satvi\\anaconda3\\Lib\\site-packages\\sklearn\\neighbors\\_classification.py:228: DataConversionWarning: A column-vector y was passed when a 1d array was expected. Please change the shape of y to (n_samples,), for example using ravel().\n",
      "  return self._fit(X, y)\n",
      "c:\\Users\\satvi\\anaconda3\\Lib\\site-packages\\sklearn\\neighbors\\_classification.py:228: DataConversionWarning: A column-vector y was passed when a 1d array was expected. Please change the shape of y to (n_samples,), for example using ravel().\n",
      "  return self._fit(X, y)\n",
      "c:\\Users\\satvi\\anaconda3\\Lib\\site-packages\\sklearn\\neighbors\\_classification.py:228: DataConversionWarning: A column-vector y was passed when a 1d array was expected. Please change the shape of y to (n_samples,), for example using ravel().\n",
      "  return self._fit(X, y)\n",
      "c:\\Users\\satvi\\anaconda3\\Lib\\site-packages\\sklearn\\neighbors\\_classification.py:228: DataConversionWarning: A column-vector y was passed when a 1d array was expected. Please change the shape of y to (n_samples,), for example using ravel().\n",
      "  return self._fit(X, y)\n",
      "c:\\Users\\satvi\\anaconda3\\Lib\\site-packages\\sklearn\\neighbors\\_classification.py:228: DataConversionWarning: A column-vector y was passed when a 1d array was expected. Please change the shape of y to (n_samples,), for example using ravel().\n",
      "  return self._fit(X, y)\n",
      "c:\\Users\\satvi\\anaconda3\\Lib\\site-packages\\sklearn\\neighbors\\_classification.py:228: DataConversionWarning: A column-vector y was passed when a 1d array was expected. Please change the shape of y to (n_samples,), for example using ravel().\n",
      "  return self._fit(X, y)\n",
      "c:\\Users\\satvi\\anaconda3\\Lib\\site-packages\\sklearn\\neighbors\\_classification.py:228: DataConversionWarning: A column-vector y was passed when a 1d array was expected. Please change the shape of y to (n_samples,), for example using ravel().\n",
      "  return self._fit(X, y)\n",
      "c:\\Users\\satvi\\anaconda3\\Lib\\site-packages\\sklearn\\neighbors\\_classification.py:228: DataConversionWarning: A column-vector y was passed when a 1d array was expected. Please change the shape of y to (n_samples,), for example using ravel().\n",
      "  return self._fit(X, y)\n",
      "c:\\Users\\satvi\\anaconda3\\Lib\\site-packages\\sklearn\\neighbors\\_classification.py:228: DataConversionWarning: A column-vector y was passed when a 1d array was expected. Please change the shape of y to (n_samples,), for example using ravel().\n",
      "  return self._fit(X, y)\n",
      "c:\\Users\\satvi\\anaconda3\\Lib\\site-packages\\sklearn\\neighbors\\_classification.py:228: DataConversionWarning: A column-vector y was passed when a 1d array was expected. Please change the shape of y to (n_samples,), for example using ravel().\n",
      "  return self._fit(X, y)\n",
      "c:\\Users\\satvi\\anaconda3\\Lib\\site-packages\\sklearn\\neighbors\\_classification.py:228: DataConversionWarning: A column-vector y was passed when a 1d array was expected. Please change the shape of y to (n_samples,), for example using ravel().\n",
      "  return self._fit(X, y)\n",
      "c:\\Users\\satvi\\anaconda3\\Lib\\site-packages\\sklearn\\neighbors\\_classification.py:228: DataConversionWarning: A column-vector y was passed when a 1d array was expected. Please change the shape of y to (n_samples,), for example using ravel().\n",
      "  return self._fit(X, y)\n",
      "c:\\Users\\satvi\\anaconda3\\Lib\\site-packages\\sklearn\\neighbors\\_classification.py:228: DataConversionWarning: A column-vector y was passed when a 1d array was expected. Please change the shape of y to (n_samples,), for example using ravel().\n",
      "  return self._fit(X, y)\n",
      "c:\\Users\\satvi\\anaconda3\\Lib\\site-packages\\sklearn\\neighbors\\_classification.py:228: DataConversionWarning: A column-vector y was passed when a 1d array was expected. Please change the shape of y to (n_samples,), for example using ravel().\n",
      "  return self._fit(X, y)\n",
      "c:\\Users\\satvi\\anaconda3\\Lib\\site-packages\\sklearn\\neighbors\\_classification.py:228: DataConversionWarning: A column-vector y was passed when a 1d array was expected. Please change the shape of y to (n_samples,), for example using ravel().\n",
      "  return self._fit(X, y)\n",
      "c:\\Users\\satvi\\anaconda3\\Lib\\site-packages\\sklearn\\neighbors\\_classification.py:228: DataConversionWarning: A column-vector y was passed when a 1d array was expected. Please change the shape of y to (n_samples,), for example using ravel().\n",
      "  return self._fit(X, y)\n",
      "c:\\Users\\satvi\\anaconda3\\Lib\\site-packages\\sklearn\\neighbors\\_classification.py:228: DataConversionWarning: A column-vector y was passed when a 1d array was expected. Please change the shape of y to (n_samples,), for example using ravel().\n",
      "  return self._fit(X, y)\n",
      "c:\\Users\\satvi\\anaconda3\\Lib\\site-packages\\sklearn\\neighbors\\_classification.py:228: DataConversionWarning: A column-vector y was passed when a 1d array was expected. Please change the shape of y to (n_samples,), for example using ravel().\n",
      "  return self._fit(X, y)\n",
      "c:\\Users\\satvi\\anaconda3\\Lib\\site-packages\\sklearn\\neighbors\\_classification.py:228: DataConversionWarning: A column-vector y was passed when a 1d array was expected. Please change the shape of y to (n_samples,), for example using ravel().\n",
      "  return self._fit(X, y)\n",
      "c:\\Users\\satvi\\anaconda3\\Lib\\site-packages\\sklearn\\neighbors\\_classification.py:228: DataConversionWarning: A column-vector y was passed when a 1d array was expected. Please change the shape of y to (n_samples,), for example using ravel().\n",
      "  return self._fit(X, y)\n",
      "c:\\Users\\satvi\\anaconda3\\Lib\\site-packages\\sklearn\\neighbors\\_classification.py:228: DataConversionWarning: A column-vector y was passed when a 1d array was expected. Please change the shape of y to (n_samples,), for example using ravel().\n",
      "  return self._fit(X, y)\n",
      "c:\\Users\\satvi\\anaconda3\\Lib\\site-packages\\sklearn\\neighbors\\_classification.py:228: DataConversionWarning: A column-vector y was passed when a 1d array was expected. Please change the shape of y to (n_samples,), for example using ravel().\n",
      "  return self._fit(X, y)\n",
      "c:\\Users\\satvi\\anaconda3\\Lib\\site-packages\\sklearn\\neighbors\\_classification.py:228: DataConversionWarning: A column-vector y was passed when a 1d array was expected. Please change the shape of y to (n_samples,), for example using ravel().\n",
      "  return self._fit(X, y)\n",
      "c:\\Users\\satvi\\anaconda3\\Lib\\site-packages\\sklearn\\neighbors\\_classification.py:228: DataConversionWarning: A column-vector y was passed when a 1d array was expected. Please change the shape of y to (n_samples,), for example using ravel().\n",
      "  return self._fit(X, y)\n",
      "c:\\Users\\satvi\\anaconda3\\Lib\\site-packages\\sklearn\\neighbors\\_classification.py:228: DataConversionWarning: A column-vector y was passed when a 1d array was expected. Please change the shape of y to (n_samples,), for example using ravel().\n",
      "  return self._fit(X, y)\n",
      "c:\\Users\\satvi\\anaconda3\\Lib\\site-packages\\sklearn\\neighbors\\_classification.py:228: DataConversionWarning: A column-vector y was passed when a 1d array was expected. Please change the shape of y to (n_samples,), for example using ravel().\n",
      "  return self._fit(X, y)\n",
      "c:\\Users\\satvi\\anaconda3\\Lib\\site-packages\\sklearn\\neighbors\\_classification.py:228: DataConversionWarning: A column-vector y was passed when a 1d array was expected. Please change the shape of y to (n_samples,), for example using ravel().\n",
      "  return self._fit(X, y)\n",
      "c:\\Users\\satvi\\anaconda3\\Lib\\site-packages\\sklearn\\neighbors\\_classification.py:228: DataConversionWarning: A column-vector y was passed when a 1d array was expected. Please change the shape of y to (n_samples,), for example using ravel().\n",
      "  return self._fit(X, y)\n",
      "c:\\Users\\satvi\\anaconda3\\Lib\\site-packages\\sklearn\\neighbors\\_classification.py:228: DataConversionWarning: A column-vector y was passed when a 1d array was expected. Please change the shape of y to (n_samples,), for example using ravel().\n",
      "  return self._fit(X, y)\n",
      "c:\\Users\\satvi\\anaconda3\\Lib\\site-packages\\sklearn\\neighbors\\_classification.py:228: DataConversionWarning: A column-vector y was passed when a 1d array was expected. Please change the shape of y to (n_samples,), for example using ravel().\n",
      "  return self._fit(X, y)\n",
      "c:\\Users\\satvi\\anaconda3\\Lib\\site-packages\\sklearn\\neighbors\\_classification.py:228: DataConversionWarning: A column-vector y was passed when a 1d array was expected. Please change the shape of y to (n_samples,), for example using ravel().\n",
      "  return self._fit(X, y)\n",
      "c:\\Users\\satvi\\anaconda3\\Lib\\site-packages\\sklearn\\neighbors\\_classification.py:228: DataConversionWarning: A column-vector y was passed when a 1d array was expected. Please change the shape of y to (n_samples,), for example using ravel().\n",
      "  return self._fit(X, y)\n",
      "c:\\Users\\satvi\\anaconda3\\Lib\\site-packages\\sklearn\\neighbors\\_classification.py:228: DataConversionWarning: A column-vector y was passed when a 1d array was expected. Please change the shape of y to (n_samples,), for example using ravel().\n",
      "  return self._fit(X, y)\n",
      "c:\\Users\\satvi\\anaconda3\\Lib\\site-packages\\sklearn\\neighbors\\_classification.py:228: DataConversionWarning: A column-vector y was passed when a 1d array was expected. Please change the shape of y to (n_samples,), for example using ravel().\n",
      "  return self._fit(X, y)\n",
      "c:\\Users\\satvi\\anaconda3\\Lib\\site-packages\\sklearn\\neighbors\\_classification.py:228: DataConversionWarning: A column-vector y was passed when a 1d array was expected. Please change the shape of y to (n_samples,), for example using ravel().\n",
      "  return self._fit(X, y)\n",
      "c:\\Users\\satvi\\anaconda3\\Lib\\site-packages\\sklearn\\neighbors\\_classification.py:228: DataConversionWarning: A column-vector y was passed when a 1d array was expected. Please change the shape of y to (n_samples,), for example using ravel().\n",
      "  return self._fit(X, y)\n",
      "c:\\Users\\satvi\\anaconda3\\Lib\\site-packages\\sklearn\\neighbors\\_classification.py:228: DataConversionWarning: A column-vector y was passed when a 1d array was expected. Please change the shape of y to (n_samples,), for example using ravel().\n",
      "  return self._fit(X, y)\n",
      "c:\\Users\\satvi\\anaconda3\\Lib\\site-packages\\sklearn\\neighbors\\_classification.py:228: DataConversionWarning: A column-vector y was passed when a 1d array was expected. Please change the shape of y to (n_samples,), for example using ravel().\n",
      "  return self._fit(X, y)\n"
     ]
    },
    {
     "data": {
      "text/html": [
       "<style>#sk-container-id-1 {color: black;}#sk-container-id-1 pre{padding: 0;}#sk-container-id-1 div.sk-toggleable {background-color: white;}#sk-container-id-1 label.sk-toggleable__label {cursor: pointer;display: block;width: 100%;margin-bottom: 0;padding: 0.3em;box-sizing: border-box;text-align: center;}#sk-container-id-1 label.sk-toggleable__label-arrow:before {content: \"▸\";float: left;margin-right: 0.25em;color: #696969;}#sk-container-id-1 label.sk-toggleable__label-arrow:hover:before {color: black;}#sk-container-id-1 div.sk-estimator:hover label.sk-toggleable__label-arrow:before {color: black;}#sk-container-id-1 div.sk-toggleable__content {max-height: 0;max-width: 0;overflow: hidden;text-align: left;background-color: #f0f8ff;}#sk-container-id-1 div.sk-toggleable__content pre {margin: 0.2em;color: black;border-radius: 0.25em;background-color: #f0f8ff;}#sk-container-id-1 input.sk-toggleable__control:checked~div.sk-toggleable__content {max-height: 200px;max-width: 100%;overflow: auto;}#sk-container-id-1 input.sk-toggleable__control:checked~label.sk-toggleable__label-arrow:before {content: \"▾\";}#sk-container-id-1 div.sk-estimator input.sk-toggleable__control:checked~label.sk-toggleable__label {background-color: #d4ebff;}#sk-container-id-1 div.sk-label input.sk-toggleable__control:checked~label.sk-toggleable__label {background-color: #d4ebff;}#sk-container-id-1 input.sk-hidden--visually {border: 0;clip: rect(1px 1px 1px 1px);clip: rect(1px, 1px, 1px, 1px);height: 1px;margin: -1px;overflow: hidden;padding: 0;position: absolute;width: 1px;}#sk-container-id-1 div.sk-estimator {font-family: monospace;background-color: #f0f8ff;border: 1px dotted black;border-radius: 0.25em;box-sizing: border-box;margin-bottom: 0.5em;}#sk-container-id-1 div.sk-estimator:hover {background-color: #d4ebff;}#sk-container-id-1 div.sk-parallel-item::after {content: \"\";width: 100%;border-bottom: 1px solid gray;flex-grow: 1;}#sk-container-id-1 div.sk-label:hover label.sk-toggleable__label {background-color: #d4ebff;}#sk-container-id-1 div.sk-serial::before {content: \"\";position: absolute;border-left: 1px solid gray;box-sizing: border-box;top: 0;bottom: 0;left: 50%;z-index: 0;}#sk-container-id-1 div.sk-serial {display: flex;flex-direction: column;align-items: center;background-color: white;padding-right: 0.2em;padding-left: 0.2em;position: relative;}#sk-container-id-1 div.sk-item {position: relative;z-index: 1;}#sk-container-id-1 div.sk-parallel {display: flex;align-items: stretch;justify-content: center;background-color: white;position: relative;}#sk-container-id-1 div.sk-item::before, #sk-container-id-1 div.sk-parallel-item::before {content: \"\";position: absolute;border-left: 1px solid gray;box-sizing: border-box;top: 0;bottom: 0;left: 50%;z-index: -1;}#sk-container-id-1 div.sk-parallel-item {display: flex;flex-direction: column;z-index: 1;position: relative;background-color: white;}#sk-container-id-1 div.sk-parallel-item:first-child::after {align-self: flex-end;width: 50%;}#sk-container-id-1 div.sk-parallel-item:last-child::after {align-self: flex-start;width: 50%;}#sk-container-id-1 div.sk-parallel-item:only-child::after {width: 0;}#sk-container-id-1 div.sk-dashed-wrapped {border: 1px dashed gray;margin: 0 0.4em 0.5em 0.4em;box-sizing: border-box;padding-bottom: 0.4em;background-color: white;}#sk-container-id-1 div.sk-label label {font-family: monospace;font-weight: bold;display: inline-block;line-height: 1.2em;}#sk-container-id-1 div.sk-label-container {text-align: center;}#sk-container-id-1 div.sk-container {/* jupyter's `normalize.less` sets `[hidden] { display: none; }` but bootstrap.min.css set `[hidden] { display: none !important; }` so we also need the `!important` here to be able to override the default hidden behavior on the sphinx rendered scikit-learn.org. See: https://github.com/scikit-learn/scikit-learn/issues/21755 */display: inline-block !important;position: relative;}#sk-container-id-1 div.sk-text-repr-fallback {display: none;}</style><div id=\"sk-container-id-1\" class=\"sk-top-container\"><div class=\"sk-text-repr-fallback\"><pre>GridSearchCV(estimator=KNeighborsClassifier(),\n",
       "             param_grid={&#x27;n_neighbors&#x27;: [3, 5, 6, 7, 8, 9],\n",
       "                         &#x27;weights&#x27;: [&#x27;uniform&#x27;, &#x27;distance&#x27;]})</pre><b>In a Jupyter environment, please rerun this cell to show the HTML representation or trust the notebook. <br />On GitHub, the HTML representation is unable to render, please try loading this page with nbviewer.org.</b></div><div class=\"sk-container\" hidden><div class=\"sk-item sk-dashed-wrapped\"><div class=\"sk-label-container\"><div class=\"sk-label sk-toggleable\"><input class=\"sk-toggleable__control sk-hidden--visually\" id=\"sk-estimator-id-1\" type=\"checkbox\" ><label for=\"sk-estimator-id-1\" class=\"sk-toggleable__label sk-toggleable__label-arrow\">GridSearchCV</label><div class=\"sk-toggleable__content\"><pre>GridSearchCV(estimator=KNeighborsClassifier(),\n",
       "             param_grid={&#x27;n_neighbors&#x27;: [3, 5, 6, 7, 8, 9],\n",
       "                         &#x27;weights&#x27;: [&#x27;uniform&#x27;, &#x27;distance&#x27;]})</pre></div></div></div><div class=\"sk-parallel\"><div class=\"sk-parallel-item\"><div class=\"sk-item\"><div class=\"sk-label-container\"><div class=\"sk-label sk-toggleable\"><input class=\"sk-toggleable__control sk-hidden--visually\" id=\"sk-estimator-id-2\" type=\"checkbox\" ><label for=\"sk-estimator-id-2\" class=\"sk-toggleable__label sk-toggleable__label-arrow\">estimator: KNeighborsClassifier</label><div class=\"sk-toggleable__content\"><pre>KNeighborsClassifier()</pre></div></div></div><div class=\"sk-serial\"><div class=\"sk-item\"><div class=\"sk-estimator sk-toggleable\"><input class=\"sk-toggleable__control sk-hidden--visually\" id=\"sk-estimator-id-3\" type=\"checkbox\" ><label for=\"sk-estimator-id-3\" class=\"sk-toggleable__label sk-toggleable__label-arrow\">KNeighborsClassifier</label><div class=\"sk-toggleable__content\"><pre>KNeighborsClassifier()</pre></div></div></div></div></div></div></div></div></div></div>"
      ],
      "text/plain": [
       "GridSearchCV(estimator=KNeighborsClassifier(),\n",
       "             param_grid={'n_neighbors': [3, 5, 6, 7, 8, 9],\n",
       "                         'weights': ['uniform', 'distance']})"
      ]
     },
     "execution_count": 38,
     "metadata": {},
     "output_type": "execute_result"
    }
   ],
   "source": [
    "from sklearn.neighbors import KNeighborsClassifier\n",
    "#define a dictionary with possible parameters\n",
    "param_grid={\"n_neighbors\": [3,5,6,7,8,9], \"weights\" :[\"uniform\", \"distance\"]}\n",
    "#k neioghbours with grid serach cross validaton\n",
    "gridkn=GridSearchCV(KNeighborsClassifier(),param_grid)\n",
    "gridkn.fit(x_train,y_train) # or ,y_train.values.ravel() to remove errors"
   ]
  },
  {
   "cell_type": "markdown",
   "metadata": {},
   "source": [
    "PARAMETER TUNING"
   ]
  },
  {
   "cell_type": "code",
   "execution_count": 39,
   "metadata": {
    "execution": {
     "iopub.execute_input": "2024-06-29T09:13:27.489932Z",
     "iopub.status.busy": "2024-06-29T09:13:27.488912Z",
     "iopub.status.idle": "2024-06-29T09:13:27.496220Z",
     "shell.execute_reply": "2024-06-29T09:13:27.495193Z",
     "shell.execute_reply.started": "2024-06-29T09:13:27.489892Z"
    }
   },
   "outputs": [
    {
     "data": {
      "text/plain": [
       "{'n_neighbors': 7, 'weights': 'uniform'}"
      ]
     },
     "execution_count": 39,
     "metadata": {},
     "output_type": "execute_result"
    }
   ],
   "source": [
    "gridkn.best_params_   "
   ]
  },
  {
   "cell_type": "code",
   "execution_count": 40,
   "metadata": {
    "execution": {
     "iopub.execute_input": "2024-06-29T09:16:07.025471Z",
     "iopub.status.busy": "2024-06-29T09:16:07.025060Z",
     "iopub.status.idle": "2024-06-29T09:16:07.040748Z",
     "shell.execute_reply": "2024-06-29T09:16:07.039877Z",
     "shell.execute_reply.started": "2024-06-29T09:16:07.025444Z"
    }
   },
   "outputs": [
    {
     "name": "stdout",
     "output_type": "stream",
     "text": [
      "Accuracy score of the model is 0.8709677419354839\n"
     ]
    }
   ],
   "source": [
    "#prediction\n",
    "knpreds=gridkn.predict(x_test)\n",
    "model_performance(knpreds)"
   ]
  },
  {
   "cell_type": "markdown",
   "metadata": {},
   "source": [
    "**SUPPORT VECTOR CLASSIFIER**"
   ]
  },
  {
   "cell_type": "code",
   "execution_count": 41,
   "metadata": {
    "execution": {
     "iopub.execute_input": "2024-06-29T09:25:43.603458Z",
     "iopub.status.busy": "2024-06-29T09:25:43.602776Z",
     "iopub.status.idle": "2024-06-29T09:25:43.883861Z",
     "shell.execute_reply": "2024-06-29T09:25:43.882857Z",
     "shell.execute_reply.started": "2024-06-29T09:25:43.603424Z"
    }
   },
   "outputs": [
    {
     "name": "stderr",
     "output_type": "stream",
     "text": [
      "c:\\Users\\satvi\\anaconda3\\Lib\\site-packages\\sklearn\\model_selection\\_validation.py:425: FitFailedWarning: \n",
      "40 fits failed out of a total of 120.\n",
      "The score on these train-test partitions for these parameters will be set to nan.\n",
      "If these failures are not expected, you can try to debug them by setting error_score='raise'.\n",
      "\n",
      "Below are more details about the failures:\n",
      "--------------------------------------------------------------------------------\n",
      "40 fits failed with the following error:\n",
      "Traceback (most recent call last):\n",
      "  File \"c:\\Users\\satvi\\anaconda3\\Lib\\site-packages\\sklearn\\model_selection\\_validation.py\", line 732, in _fit_and_score\n",
      "    estimator.fit(X_train, y_train, **fit_params)\n",
      "  File \"c:\\Users\\satvi\\anaconda3\\Lib\\site-packages\\sklearn\\base.py\", line 1144, in wrapper\n",
      "    estimator._validate_params()\n",
      "  File \"c:\\Users\\satvi\\anaconda3\\Lib\\site-packages\\sklearn\\base.py\", line 637, in _validate_params\n",
      "    validate_parameter_constraints(\n",
      "  File \"c:\\Users\\satvi\\anaconda3\\Lib\\site-packages\\sklearn\\utils\\_param_validation.py\", line 95, in validate_parameter_constraints\n",
      "    raise InvalidParameterError(\n",
      "sklearn.utils._param_validation.InvalidParameterError: The 'kernel' parameter of SVC must be a str among {'rbf', 'sigmoid', 'linear', 'poly', 'precomputed'} or a callable. Got 'ploy' instead.\n",
      "\n",
      "  warnings.warn(some_fits_failed_message, FitFailedWarning)\n",
      "c:\\Users\\satvi\\anaconda3\\Lib\\site-packages\\sklearn\\model_selection\\_search.py:976: UserWarning: One or more of the test scores are non-finite: [0.69110204 0.69110204        nan 0.82530612 0.69110204        nan\n",
      " 0.82530612 0.69110204        nan 0.82530612 0.69110204        nan\n",
      " 0.82530612 0.69110204        nan 0.82530612 0.69110204        nan\n",
      " 0.82530612 0.7844898         nan 0.82530612 0.80514286        nan]\n",
      "  warnings.warn(\n"
     ]
    },
    {
     "data": {
      "text/html": [
       "<style>#sk-container-id-2 {color: black;}#sk-container-id-2 pre{padding: 0;}#sk-container-id-2 div.sk-toggleable {background-color: white;}#sk-container-id-2 label.sk-toggleable__label {cursor: pointer;display: block;width: 100%;margin-bottom: 0;padding: 0.3em;box-sizing: border-box;text-align: center;}#sk-container-id-2 label.sk-toggleable__label-arrow:before {content: \"▸\";float: left;margin-right: 0.25em;color: #696969;}#sk-container-id-2 label.sk-toggleable__label-arrow:hover:before {color: black;}#sk-container-id-2 div.sk-estimator:hover label.sk-toggleable__label-arrow:before {color: black;}#sk-container-id-2 div.sk-toggleable__content {max-height: 0;max-width: 0;overflow: hidden;text-align: left;background-color: #f0f8ff;}#sk-container-id-2 div.sk-toggleable__content pre {margin: 0.2em;color: black;border-radius: 0.25em;background-color: #f0f8ff;}#sk-container-id-2 input.sk-toggleable__control:checked~div.sk-toggleable__content {max-height: 200px;max-width: 100%;overflow: auto;}#sk-container-id-2 input.sk-toggleable__control:checked~label.sk-toggleable__label-arrow:before {content: \"▾\";}#sk-container-id-2 div.sk-estimator input.sk-toggleable__control:checked~label.sk-toggleable__label {background-color: #d4ebff;}#sk-container-id-2 div.sk-label input.sk-toggleable__control:checked~label.sk-toggleable__label {background-color: #d4ebff;}#sk-container-id-2 input.sk-hidden--visually {border: 0;clip: rect(1px 1px 1px 1px);clip: rect(1px, 1px, 1px, 1px);height: 1px;margin: -1px;overflow: hidden;padding: 0;position: absolute;width: 1px;}#sk-container-id-2 div.sk-estimator {font-family: monospace;background-color: #f0f8ff;border: 1px dotted black;border-radius: 0.25em;box-sizing: border-box;margin-bottom: 0.5em;}#sk-container-id-2 div.sk-estimator:hover {background-color: #d4ebff;}#sk-container-id-2 div.sk-parallel-item::after {content: \"\";width: 100%;border-bottom: 1px solid gray;flex-grow: 1;}#sk-container-id-2 div.sk-label:hover label.sk-toggleable__label {background-color: #d4ebff;}#sk-container-id-2 div.sk-serial::before {content: \"\";position: absolute;border-left: 1px solid gray;box-sizing: border-box;top: 0;bottom: 0;left: 50%;z-index: 0;}#sk-container-id-2 div.sk-serial {display: flex;flex-direction: column;align-items: center;background-color: white;padding-right: 0.2em;padding-left: 0.2em;position: relative;}#sk-container-id-2 div.sk-item {position: relative;z-index: 1;}#sk-container-id-2 div.sk-parallel {display: flex;align-items: stretch;justify-content: center;background-color: white;position: relative;}#sk-container-id-2 div.sk-item::before, #sk-container-id-2 div.sk-parallel-item::before {content: \"\";position: absolute;border-left: 1px solid gray;box-sizing: border-box;top: 0;bottom: 0;left: 50%;z-index: -1;}#sk-container-id-2 div.sk-parallel-item {display: flex;flex-direction: column;z-index: 1;position: relative;background-color: white;}#sk-container-id-2 div.sk-parallel-item:first-child::after {align-self: flex-end;width: 50%;}#sk-container-id-2 div.sk-parallel-item:last-child::after {align-self: flex-start;width: 50%;}#sk-container-id-2 div.sk-parallel-item:only-child::after {width: 0;}#sk-container-id-2 div.sk-dashed-wrapped {border: 1px dashed gray;margin: 0 0.4em 0.5em 0.4em;box-sizing: border-box;padding-bottom: 0.4em;background-color: white;}#sk-container-id-2 div.sk-label label {font-family: monospace;font-weight: bold;display: inline-block;line-height: 1.2em;}#sk-container-id-2 div.sk-label-container {text-align: center;}#sk-container-id-2 div.sk-container {/* jupyter's `normalize.less` sets `[hidden] { display: none; }` but bootstrap.min.css set `[hidden] { display: none !important; }` so we also need the `!important` here to be able to override the default hidden behavior on the sphinx rendered scikit-learn.org. See: https://github.com/scikit-learn/scikit-learn/issues/21755 */display: inline-block !important;position: relative;}#sk-container-id-2 div.sk-text-repr-fallback {display: none;}</style><div id=\"sk-container-id-2\" class=\"sk-top-container\"><div class=\"sk-text-repr-fallback\"><pre>GridSearchCV(estimator=SVC(),\n",
       "             param_grid={&#x27;C&#x27;: [0.001, 0.01, 0.02, 0.03, 0.04, 0.05, 0.1, 5],\n",
       "                         &#x27;kernel&#x27;: [&#x27;linear&#x27;, &#x27;rbf&#x27;, &#x27;ploy&#x27;]})</pre><b>In a Jupyter environment, please rerun this cell to show the HTML representation or trust the notebook. <br />On GitHub, the HTML representation is unable to render, please try loading this page with nbviewer.org.</b></div><div class=\"sk-container\" hidden><div class=\"sk-item sk-dashed-wrapped\"><div class=\"sk-label-container\"><div class=\"sk-label sk-toggleable\"><input class=\"sk-toggleable__control sk-hidden--visually\" id=\"sk-estimator-id-4\" type=\"checkbox\" ><label for=\"sk-estimator-id-4\" class=\"sk-toggleable__label sk-toggleable__label-arrow\">GridSearchCV</label><div class=\"sk-toggleable__content\"><pre>GridSearchCV(estimator=SVC(),\n",
       "             param_grid={&#x27;C&#x27;: [0.001, 0.01, 0.02, 0.03, 0.04, 0.05, 0.1, 5],\n",
       "                         &#x27;kernel&#x27;: [&#x27;linear&#x27;, &#x27;rbf&#x27;, &#x27;ploy&#x27;]})</pre></div></div></div><div class=\"sk-parallel\"><div class=\"sk-parallel-item\"><div class=\"sk-item\"><div class=\"sk-label-container\"><div class=\"sk-label sk-toggleable\"><input class=\"sk-toggleable__control sk-hidden--visually\" id=\"sk-estimator-id-5\" type=\"checkbox\" ><label for=\"sk-estimator-id-5\" class=\"sk-toggleable__label sk-toggleable__label-arrow\">estimator: SVC</label><div class=\"sk-toggleable__content\"><pre>SVC()</pre></div></div></div><div class=\"sk-serial\"><div class=\"sk-item\"><div class=\"sk-estimator sk-toggleable\"><input class=\"sk-toggleable__control sk-hidden--visually\" id=\"sk-estimator-id-6\" type=\"checkbox\" ><label for=\"sk-estimator-id-6\" class=\"sk-toggleable__label sk-toggleable__label-arrow\">SVC</label><div class=\"sk-toggleable__content\"><pre>SVC()</pre></div></div></div></div></div></div></div></div></div></div>"
      ],
      "text/plain": [
       "GridSearchCV(estimator=SVC(),\n",
       "             param_grid={'C': [0.001, 0.01, 0.02, 0.03, 0.04, 0.05, 0.1, 5],\n",
       "                         'kernel': ['linear', 'rbf', 'ploy']})"
      ]
     },
     "execution_count": 41,
     "metadata": {},
     "output_type": "execute_result"
    }
   ],
   "source": [
    "from sklearn.svm import SVC\n",
    "svm=SVC()\n",
    "param_grid_svc={\"C\":[0.001,0.01,0.02,0.03,0.04,0.05,0.10,5],\"kernel\":[\"linear\", \"rbf\", \"ploy\"]}\n",
    "\n",
    "gridsvc=GridSearchCV(svm,param_grid_svc)\n",
    "\n",
    "#train model\n",
    "gridsvc.fit(x_train,y_train.values.ravel()) "
   ]
  },
  {
   "cell_type": "code",
   "execution_count": 42,
   "metadata": {
    "execution": {
     "iopub.execute_input": "2024-06-29T09:25:55.547470Z",
     "iopub.status.busy": "2024-06-29T09:25:55.546726Z",
     "iopub.status.idle": "2024-06-29T09:25:55.553370Z",
     "shell.execute_reply": "2024-06-29T09:25:55.552407Z",
     "shell.execute_reply.started": "2024-06-29T09:25:55.547435Z"
    }
   },
   "outputs": [
    {
     "data": {
      "text/plain": [
       "{'C': 0.01, 'kernel': 'linear'}"
      ]
     },
     "execution_count": 42,
     "metadata": {},
     "output_type": "execute_result"
    }
   ],
   "source": [
    "gridsvc.best_params_"
   ]
  },
  {
   "cell_type": "code",
   "execution_count": 43,
   "metadata": {
    "execution": {
     "iopub.execute_input": "2024-06-29T09:25:01.818972Z",
     "iopub.status.busy": "2024-06-29T09:25:01.818597Z",
     "iopub.status.idle": "2024-06-29T09:25:01.828274Z",
     "shell.execute_reply": "2024-06-29T09:25:01.827225Z",
     "shell.execute_reply.started": "2024-06-29T09:25:01.818942Z"
    }
   },
   "outputs": [
    {
     "name": "stdout",
     "output_type": "stream",
     "text": [
      "Accuracy score of the model is 0.8870967741935484\n"
     ]
    }
   ],
   "source": [
    "#prediction\n",
    "pred_svc=gridsvc.predict(x_test)\n",
    "\n",
    "model_performance(pred_svc)"
   ]
  },
  {
   "cell_type": "markdown",
   "metadata": {},
   "source": []
  },
  {
   "cell_type": "code",
   "execution_count": 44,
   "metadata": {
    "execution": {
     "iopub.execute_input": "2024-06-29T09:28:01.603534Z",
     "iopub.status.busy": "2024-06-29T09:28:01.603114Z",
     "iopub.status.idle": "2024-06-29T09:28:01.615894Z",
     "shell.execute_reply": "2024-06-29T09:28:01.614990Z",
     "shell.execute_reply.started": "2024-06-29T09:28:01.603507Z"
    }
   },
   "outputs": [
    {
     "data": {
      "text/plain": [
       "['model.pkl']"
      ]
     },
     "execution_count": 44,
     "metadata": {},
     "output_type": "execute_result"
    }
   ],
   "source": [
    "#export model using joblib\n",
    "joblib.dump(gridsvc,\"model.pkl\")"
   ]
  },
  {
   "cell_type": "code",
   "execution_count": 45,
   "metadata": {},
   "outputs": [
    {
     "data": {
      "text/plain": [
       "'\\nimport joblib\\ntestmodel=joblib.load(\"model.pkl\")\\ntestmodel.predict([0,3500,1,100,1])\\n'"
      ]
     },
     "execution_count": 45,
     "metadata": {},
     "output_type": "execute_result"
    }
   ],
   "source": [
    "#below is what we are going to to ion the API\n",
    "'''\n",
    "import joblib\n",
    "testmodel=joblib.load(\"model.pkl\")\n",
    "testmodel.predict([0,3500,1,100,1])\n",
    "'''"
   ]
  },
  {
   "cell_type": "markdown",
   "metadata": {},
   "source": [
    "# 4. FAST API APP CREATION"
   ]
  },
  {
   "cell_type": "code",
   "execution_count": 1,
   "metadata": {
    "execution": {
     "iopub.execute_input": "2024-06-29T09:56:12.832697Z",
     "iopub.status.busy": "2024-06-29T09:56:12.831759Z",
     "iopub.status.idle": "2024-06-29T09:56:14.078160Z",
     "shell.execute_reply": "2024-06-29T09:56:14.076776Z",
     "shell.execute_reply.started": "2024-06-29T09:56:12.832661Z"
    }
   },
   "outputs": [
    {
     "data": {
      "text/plain": [
       "'from fastapi import FastAPI\\nfrom pydantic import BaseModel #for defining the data types\\nimport joblib\\nimport numpy as np\\nimport uvicorn \\n\\nclass InputData(BaseModel):\\n    x1:float\\n    x2:float\\n    x3:float\\n    x4:float\\n    x5:float\\n\\n#Load the model\\nscaler=joblib.load(\"Scaler.pkl\")\\nmodel=joblib.load(\"model.pkl\")\\n        \\napp=FastAPI()       \\n\\n#define the endpoint \\'predict\\' for API which is going to return prediction for our model\\n@app.post(\"/predict/\") \\ndef predict(input_data : InputData):\\n    x_values=np.array([[\\n        inputdata.x1,\\n        inputdata.x2,\\n        inputdata.x3,\\n        inputdata.x4,\\n        inputdata.x5\\n    ]])\\n    #inside the function we are going to scale our x values\\n    scaled_x_values=scaler.transform(x_values)\\n    prediction=model.predict(scaled_x_values)\\n    predict=int(prediction[0])\\n    return {\"prediction\": predict}\\n\\n\\nif __name__ ==\"__main__\":\\n    uvicorn.run(app,host=\"127.0.0.1\",port=8000)\\n'"
      ]
     },
     "execution_count": 1,
     "metadata": {},
     "output_type": "execute_result"
    }
   ],
   "source": [
    "'''from fastapi import FastAPI\n",
    "from pydantic import BaseModel #for defining the data types\n",
    "import joblib\n",
    "import numpy as np\n",
    "import uvicorn \n",
    "\n",
    "class InputData(BaseModel):\n",
    "    x1:float\n",
    "    x2:float\n",
    "    x3:float\n",
    "    x4:float\n",
    "    x5:float\n",
    "\n",
    "#Load the model\n",
    "scaler=joblib.load(\"Scaler.pkl\")\n",
    "model=joblib.load(\"model.pkl\")\n",
    "        \n",
    "app=FastAPI()       \n",
    "\n",
    "#define the endpoint 'predict' for API which is going to return prediction for our model\n",
    "@app.post(\"/predict/\") \n",
    "def predict(input_data : InputData):\n",
    "    x_values=np.array([[\n",
    "        inputdata.x1,\n",
    "        inputdata.x2,\n",
    "        inputdata.x3,\n",
    "        inputdata.x4,\n",
    "        inputdata.x5\n",
    "    ]])\n",
    "    #inside the function we are going to scale our x values\n",
    "    scaled_x_values=scaler.transform(x_values)\n",
    "    prediction=model.predict(scaled_x_values)\n",
    "    predict=int(prediction[0])\n",
    "    return {\"prediction\": predict}\n",
    "\n",
    "\n",
    "if __name__ ==\"__main__\":\n",
    "    uvicorn.run(app,host=\"127.0.0.1\",port=8000)\n",
    "'''\n"
   ]
  },
  {
   "cell_type": "code",
   "execution_count": null,
   "metadata": {},
   "outputs": [],
   "source": []
  },
  {
   "cell_type": "markdown",
   "metadata": {},
   "source": [
    "**Next Steps**\n",
    "\n",
    "1.In the terminal execute the program \n",
    "\n",
    "2.Open another terminal type : uvicorn app:app --reload\n",
    "\n",
    "3.Click on the address (https://127.0.0......) and insert /docs after the port (Eg:https://address:port/docs)\n",
    "\n",
    "4.In the endpoint ,test the model by giving the input data.\n",
    "\n",
    "    Input data format\n",
    "    \n",
    "    Married         : Binary (0=NOT MARRIED , 1=MARRIED) \n",
    "    ApplicantIncome\t: Number (float)\n",
    "    Education       : Binary (0=NOT GRADUATE , 1=GRADUATE) \n",
    "    LoanAmount      : Number (float)                        (Loan amount inthousands)\n",
    "    Credit_History  : Binary (0=NO , 1=YES)                 (i.e.,credit history meets guidelinenes or not)\n",
    "\n",
    "    Output : Binary  (0=NOT APPROVED , 1=APPROVED) "
   ]
  },
  {
   "cell_type": "markdown",
   "metadata": {},
   "source": []
  }
 ],
 "metadata": {
  "kaggle": {
   "accelerator": "none",
   "dataSources": [
    {
     "datasetId": 4390452,
     "sourceId": 7539897,
     "sourceType": "datasetVersion"
    }
   ],
   "dockerImageVersionId": 30732,
   "isGpuEnabled": false,
   "isInternetEnabled": false,
   "language": "python",
   "sourceType": "notebook"
  },
  "kernelspec": {
   "display_name": "Python 3 (ipykernel)",
   "language": "python",
   "name": "python3"
  },
  "language_info": {
   "codemirror_mode": {
    "name": "ipython",
    "version": 3
   },
   "file_extension": ".py",
   "mimetype": "text/x-python",
   "name": "python",
   "nbconvert_exporter": "python",
   "pygments_lexer": "ipython3",
   "version": "3.11.5"
  }
 },
 "nbformat": 4,
 "nbformat_minor": 4
}
